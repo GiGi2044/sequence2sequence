{
 "cells": [
  {
   "cell_type": "markdown",
   "id": "2f1da560-8eed-4a96-a97c-7aecc57bff6e",
   "metadata": {},
   "source": [
    "## Introduction"
   ]
  },
  {
   "cell_type": "markdown",
   "id": "5f43e528-92db-41c9-b8b0-8f8f9092214b",
   "metadata": {},
   "source": [
    "This notebook presents an implementation of a **sequence-to-sequence** (Seq2Seq) model using PyTorch. The model, built from scratch, leverages the **Transformer** architecture, a state-of-the-art model for sequence transduction tasks."
   ]
  },
  {
   "cell_type": "markdown",
   "id": "d6692af6-f6dc-486a-b369-7918d54a74cf",
   "metadata": {},
   "source": [
    "## Installing libraries"
   ]
  },
  {
   "cell_type": "markdown",
   "id": "312b3233-744a-4e32-8b62-6d1010689fd9",
   "metadata": {},
   "source": [
    "We begin with the installation of essential libraries. We'll be relying on the robust capabilities of **PyTorch**, **TorchText**, and **ANTLR4** to bring our transpiler to life."
   ]
  },
  {
   "cell_type": "code",
   "execution_count": 19,
   "id": "5c39b85a-ad6e-461a-9220-4c96dcca837a",
   "metadata": {
    "execution": {
     "iopub.execute_input": "2024-04-23T12:28:41.843609Z",
     "iopub.status.busy": "2024-04-23T12:28:41.842975Z",
     "iopub.status.idle": "2024-04-23T12:28:58.407619Z",
     "shell.execute_reply": "2024-04-23T12:28:58.405457Z",
     "shell.execute_reply.started": "2024-04-23T12:28:41.843560Z"
    }
   },
   "outputs": [
    {
     "name": "stdout",
     "output_type": "stream",
     "text": [
      "Requirement already satisfied: torch==1.7.1 in /usr/local/lib/python3.9/dist-packages (1.7.1)\n",
      "Requirement already satisfied: torchvision==0.8.2 in /usr/local/lib/python3.9/dist-packages (0.8.2)\n",
      "Requirement already satisfied: torchaudio==0.7.2 in /usr/local/lib/python3.9/dist-packages (0.7.2)\n",
      "Requirement already satisfied: typing-extensions in /usr/local/lib/python3.9/dist-packages (from torch==1.7.1) (4.4.0)\n",
      "Requirement already satisfied: numpy in /usr/local/lib/python3.9/dist-packages (from torch==1.7.1) (1.23.4)\n",
      "Requirement already satisfied: pillow>=4.1.1 in /usr/local/lib/python3.9/dist-packages (from torchvision==0.8.2) (9.2.0)\n",
      "\u001b[33mWARNING: Running pip as the 'root' user can result in broken permissions and conflicting behaviour with the system package manager. It is recommended to use a virtual environment instead: https://pip.pypa.io/warnings/venv\u001b[0m\u001b[33m\n",
      "\u001b[0mRequirement already satisfied: torchtext==0.8.1 in /usr/local/lib/python3.9/dist-packages (0.8.1)\n",
      "Requirement already satisfied: requests in /usr/local/lib/python3.9/dist-packages (from torchtext==0.8.1) (2.28.2)\n",
      "Requirement already satisfied: tqdm in /usr/local/lib/python3.9/dist-packages (from torchtext==0.8.1) (4.64.1)\n",
      "Requirement already satisfied: numpy in /usr/local/lib/python3.9/dist-packages (from torchtext==0.8.1) (1.23.4)\n",
      "Requirement already satisfied: torch==1.7.1 in /usr/local/lib/python3.9/dist-packages (from torchtext==0.8.1) (1.7.1)\n",
      "Requirement already satisfied: typing-extensions in /usr/local/lib/python3.9/dist-packages (from torch==1.7.1->torchtext==0.8.1) (4.4.0)\n",
      "Requirement already satisfied: certifi>=2017.4.17 in /usr/lib/python3/dist-packages (from requests->torchtext==0.8.1) (2019.11.28)\n",
      "Requirement already satisfied: charset-normalizer<4,>=2 in /usr/local/lib/python3.9/dist-packages (from requests->torchtext==0.8.1) (2.1.1)\n",
      "Requirement already satisfied: urllib3<1.27,>=1.21.1 in /usr/local/lib/python3.9/dist-packages (from requests->torchtext==0.8.1) (1.26.14)\n",
      "Requirement already satisfied: idna<4,>=2.5 in /usr/lib/python3/dist-packages (from requests->torchtext==0.8.1) (2.8)\n",
      "\u001b[33mWARNING: Running pip as the 'root' user can result in broken permissions and conflicting behaviour with the system package manager. It is recommended to use a virtual environment instead: https://pip.pypa.io/warnings/venv\u001b[0m\u001b[33m\n",
      "\u001b[0mRequirement already satisfied: antlr4-python3-runtime==4.9.2 in /usr/local/lib/python3.9/dist-packages (4.9.2)\n",
      "\u001b[33mWARNING: Running pip as the 'root' user can result in broken permissions and conflicting behaviour with the system package manager. It is recommended to use a virtual environment instead: https://pip.pypa.io/warnings/venv\u001b[0m\u001b[33m\n",
      "\u001b[0m"
     ]
    }
   ],
   "source": [
    "!pip install torch==1.7.1 torchvision==0.8.2 torchaudio==0.7.2\n",
    "!pip install torchtext==0.8.1\n",
    "!pip install antlr4-python3-runtime==4.9.2"
   ]
  },
  {
   "cell_type": "markdown",
   "id": "3c7ab93a-68f0-429a-85e8-8f68a11eb997",
   "metadata": {},
   "source": [
    "## Importing libraries"
   ]
  },
  {
   "cell_type": "markdown",
   "id": "3aa76569-0e4e-4ede-b67f-ee5a3b2408b5",
   "metadata": {},
   "source": [
    "We then import all the necessary libraries. **json** will be used to import our data, **antlr4** provides the backbone for our transpiler, enabling us to parse PL/I code and manipulate its structure with ease, **torch** PyTorch empowers us to build and train neural networks seamlessly, **torchtext** complements PyTorch by providing utilities for text processing and dataset handling, **jinja2** simplifies code generation with its template engine ensuring a smooth transition between languages and to finish **matplotlib** will come in handy during training for visualising our progress  "
   ]
  },
  {
   "cell_type": "code",
   "execution_count": 20,
   "id": "1fa9b17b-24bf-4cb8-860c-fb1ed8bb988a",
   "metadata": {
    "execution": {
     "iopub.execute_input": "2024-04-23T12:28:58.411815Z",
     "iopub.status.busy": "2024-04-23T12:28:58.411237Z",
     "iopub.status.idle": "2024-04-23T12:28:58.422801Z",
     "shell.execute_reply": "2024-04-23T12:28:58.420411Z",
     "shell.execute_reply.started": "2024-04-23T12:28:58.411769Z"
    }
   },
   "outputs": [],
   "source": [
    "import json\n",
    "\n",
    "from antlr4 import *\n",
    "from pli.PLILexer import PLILexer\n",
    "from pli.PLIParser import PLIParser\n",
    "from pli.PLIVisitor import PLIVisitor\n",
    "\n",
    "import torch\n",
    "import torch.nn as nn\n",
    "import torch.optim as optim\n",
    "from torchtext.data import Field, TabularDataset, BucketIterator\n",
    "\n",
    "from jinja2 import Template\n",
    "\n",
    "import matplotlib.pyplot as plt"
   ]
  },
  {
   "cell_type": "markdown",
   "id": "3c450d3e-f442-45f2-bfe1-d3512e6b61ec",
   "metadata": {},
   "source": [
    "## The model"
   ]
  },
  {
   "cell_type": "markdown",
   "id": "0d1871b9-794a-4243-813f-dc90d1576328",
   "metadata": {},
   "source": [
    "The Transformer class encapsulates a custom implementation of the Transformer model, a powerful architecture for **sequence-to-sequence** tasks. It comprises various components, including **embedding layers** for source and target sequences, **positional embeddings** to capture sequence order, and a multi-layer Transformer module. The model utilizes **dropout** for regularization and employs **masks** to handle padding and prevent information leakage during training. With these components, the Transformer class can efficiently process source and target sequences, facilitating tasks like language translation or code generation"
   ]
  },
  {
   "cell_type": "code",
   "execution_count": 33,
   "id": "83a751df-600d-4f8a-addf-a8e9ddda6cbe",
   "metadata": {
    "execution": {
     "iopub.execute_input": "2024-04-23T12:44:14.017111Z",
     "iopub.status.busy": "2024-04-23T12:44:14.015950Z",
     "iopub.status.idle": "2024-04-23T12:44:14.034473Z",
     "shell.execute_reply": "2024-04-23T12:44:14.032371Z",
     "shell.execute_reply.started": "2024-04-23T12:44:14.017040Z"
    }
   },
   "outputs": [],
   "source": [
    "class Transformer(nn.Module):\n",
    "\n",
    "    # Initialises the Transformer model\n",
    "    def __init__(\n",
    "            self,\n",
    "            embedding_size,\n",
    "            src_vocab_size,\n",
    "            trg_vocab_size,\n",
    "            src_pad_idx,\n",
    "            num_heads,\n",
    "            num_encoder_layers,\n",
    "            num_decoder_layers,\n",
    "            forward_expansion,\n",
    "            dropout,\n",
    "            max_len,\n",
    "            device,\n",
    "    ):\n",
    "        super(Transformer, self).__init__()\n",
    "        self.src_word_embedding = nn.Embedding(src_vocab_size, embedding_size)\n",
    "        self.src_position_embedding = nn.Embedding(max_len, embedding_size)\n",
    "        self.trg_word_embedding = nn.Embedding(trg_vocab_size, embedding_size)\n",
    "        self.trg_position_embedding = nn.Embedding(max_len, embedding_size)\n",
    "\n",
    "        self.device = device\n",
    "        self.transformer = nn.Transformer(\n",
    "            embedding_size,\n",
    "            num_heads,\n",
    "            num_encoder_layers,\n",
    "            num_decoder_layers,\n",
    "            forward_expansion,\n",
    "            dropout,\n",
    "        )\n",
    "        self.fc_out = nn.Linear(embedding_size, trg_vocab_size)\n",
    "        self.dropout = nn.Dropout(dropout)\n",
    "        self.src_pad_idx = src_pad_idx\n",
    "\n",
    "    # Generates a mask for the source sequence to handle padding\n",
    "    def make_src_mask(self, src):\n",
    "        src_mask = src.transpose(0, 1) == self.src_pad_idx\n",
    "\n",
    "        # (N, src_len)\n",
    "        return src_mask.to(self.device)\n",
    "\n",
    "    # Forward pass of the Transformer model\n",
    "    def forward(self, src, trg):\n",
    "        src_seq_length, N = src.shape\n",
    "        trg_seq_length, N = trg.shape\n",
    "\n",
    "        src_positions = (\n",
    "            torch.arange(0, src_seq_length)\n",
    "                .unsqueeze(1)\n",
    "                .expand(src_seq_length, N)\n",
    "                .to(self.device)\n",
    "        )\n",
    "\n",
    "        trg_positions = (\n",
    "            torch.arange(0, trg_seq_length)\n",
    "                .unsqueeze(1)\n",
    "                .expand(trg_seq_length, N)\n",
    "                .to(self.device)\n",
    "        )\n",
    "\n",
    "        embed_src = self.dropout(\n",
    "            (self.src_word_embedding(src) + self.src_position_embedding(src_positions))\n",
    "        )\n",
    "        embed_trg = self.dropout(\n",
    "            (self.trg_word_embedding(trg) + self.trg_position_embedding(trg_positions))\n",
    "        )\n",
    "\n",
    "        src_padding_mask = self.make_src_mask(src)\n",
    "        trg_mask = self.transformer.generate_square_subsequent_mask(trg_seq_length).to(\n",
    "            self.device\n",
    "        )\n",
    "\n",
    "        out = self.transformer(\n",
    "            embed_src,\n",
    "            embed_trg,\n",
    "            src_key_padding_mask=src_padding_mask,\n",
    "            tgt_mask=trg_mask,\n",
    "        )\n",
    "        out = self.fc_out(out)\n",
    "        return out"
   ]
  },
  {
   "cell_type": "markdown",
   "id": "2f95555c-514a-4ba7-a729-e7c5c88edb11",
   "metadata": {},
   "source": [
    "## EDA"
   ]
  },
  {
   "cell_type": "markdown",
   "id": "8f0ea9c3-0261-427e-99a3-2b293a694685",
   "metadata": {},
   "source": [
    "### Tokenize"
   ]
  },
  {
   "cell_type": "markdown",
   "id": "f87b8c6d-5dfb-4b20-a80b-95309cf8a8dc",
   "metadata": {},
   "source": [
    "We define a simple **tokenizer** that splits a string into tokens based on whitespace, it then creates two **Field** objects with some specifications and finally we create a dictionary that maps field names to tuples to be used later to specify how to load and process the data "
   ]
  },
  {
   "cell_type": "code",
   "execution_count": 22,
   "id": "6c127116-54cb-4570-84cc-73ebb591f2a8",
   "metadata": {
    "execution": {
     "iopub.execute_input": "2024-04-23T12:28:58.453342Z",
     "iopub.status.busy": "2024-04-23T12:28:58.452701Z",
     "iopub.status.idle": "2024-04-23T12:28:58.464816Z",
     "shell.execute_reply": "2024-04-23T12:28:58.462810Z",
     "shell.execute_reply.started": "2024-04-23T12:28:58.453299Z"
    }
   },
   "outputs": [],
   "source": [
    "import torchtext.data as data\n",
    "\n",
    "tokenizer = lambda x: x.split()\n",
    "\n",
    "pli = data.Field(sequential=True, use_vocab=True, tokenize=tokenizer, lower=True, init_token=\"<sos>\", eos_token=\"<eos>\")\n",
    "ktl = data.Field(sequential=True, use_vocab=True, tokenize=tokenizer, lower=True, init_token=\"<sos>\", eos_token=\"<eos>\")\n",
    "\n",
    "fields = {'pli': ('p', pli), 'ktl': ('k', ktl)}"
   ]
  },
  {
   "cell_type": "markdown",
   "id": "1161956e-fb38-484e-a7ea-1ce7e074183d",
   "metadata": {},
   "source": [
    "### Splits"
   ]
  },
  {
   "cell_type": "markdown",
   "id": "78bb0945-e0d9-4a1d-be24-969287dc3c59",
   "metadata": {},
   "source": [
    "We're using the TabularDataset module from the torchtext.data package to create separate datasets for **training** and **testing**. The data is loaded from JSON files located in the 'data' directory. We specify the format of the data as JSON and define the fields to be extracted from the JSON files using the fields parameter"
   ]
  },
  {
   "cell_type": "code",
   "execution_count": 23,
   "id": "bf949e1f-8a60-401d-9f6e-8f81c9e4d0a0",
   "metadata": {
    "execution": {
     "iopub.execute_input": "2024-04-23T12:28:58.468127Z",
     "iopub.status.busy": "2024-04-23T12:28:58.467575Z",
     "iopub.status.idle": "2024-04-23T12:28:58.484013Z",
     "shell.execute_reply": "2024-04-23T12:28:58.481931Z",
     "shell.execute_reply.started": "2024-04-23T12:28:58.468086Z"
    }
   },
   "outputs": [],
   "source": [
    "train, test = data.TabularDataset.splits(\n",
    "    path='data',\n",
    "    train='train.json',\n",
    "    test='test.json',\n",
    "    format='json',\n",
    "    fields=fields,\n",
    ")"
   ]
  },
  {
   "cell_type": "markdown",
   "id": "ed0c78c8-e6e8-4176-94a6-c64c7e578db6",
   "metadata": {
    "execution": {
     "iopub.execute_input": "2024-04-17T09:30:39.739005Z",
     "iopub.status.busy": "2024-04-17T09:30:39.738420Z",
     "iopub.status.idle": "2024-04-17T09:30:39.745689Z",
     "shell.execute_reply": "2024-04-17T09:30:39.744054Z",
     "shell.execute_reply.started": "2024-04-17T09:30:39.738961Z"
    }
   },
   "source": [
    "### Vocab"
   ]
  },
  {
   "cell_type": "markdown",
   "id": "10b84fb3-181b-486f-9de3-7f1bb362f716",
   "metadata": {},
   "source": [
    "Building a vocabulary involves creating a dictionary that maps each unique word in the dataset to a unique index. This process is crucial for natural language processing tasks as it allows machine learning models to represent words as numerical values, which they can process and understand. In this case, we're building vocabularies for the PL/I (pli) and Kotlin (ktl) datasets, ensuring that the model has a predefined set of words it can understand and process during training and inference."
   ]
  },
  {
   "cell_type": "code",
   "execution_count": 24,
   "id": "c7e493b0-806b-4216-a4e6-2c94932c8bb1",
   "metadata": {
    "execution": {
     "iopub.execute_input": "2024-04-23T12:28:58.486607Z",
     "iopub.status.busy": "2024-04-23T12:28:58.486164Z",
     "iopub.status.idle": "2024-04-23T12:28:58.495435Z",
     "shell.execute_reply": "2024-04-23T12:28:58.493234Z",
     "shell.execute_reply.started": "2024-04-23T12:28:58.486566Z"
    }
   },
   "outputs": [],
   "source": [
    "pli.build_vocab(train, max_size=10000, min_freq=1)\n",
    "ktl.build_vocab(train, max_size=10000, min_freq=1)"
   ]
  },
  {
   "cell_type": "markdown",
   "id": "b63006ee-e498-43b8-ad3a-0a087e687ac5",
   "metadata": {},
   "source": [
    "### Translate"
   ]
  },
  {
   "cell_type": "markdown",
   "id": "3de41b5c-9421-4b6c-a467-53a34887f540",
   "metadata": {},
   "source": [
    "We define a **translate_sequence** function. It tokenizes the input sentence, adds <SOS> and <EOS> tokens at the beginning and end respectively, converts the tokens to indices using the vocabulary of the pli field, converts the indices to a PyTorch tensor, and iteratively predicts the next token in the translated sequence using the trained model until either the <EOS> token is predicted or the maximum length is reached. Finally, it converts the predicted indices back to tokens using the vocabulary of the Kotlin field and returns the translated sentence, removing the start token <sos>"
   ]
  },
  {
   "cell_type": "code",
   "execution_count": 25,
   "id": "16a95ad7-9cd8-4e50-957b-a7640de1ab3a",
   "metadata": {
    "execution": {
     "iopub.execute_input": "2024-04-23T12:28:58.499006Z",
     "iopub.status.busy": "2024-04-23T12:28:58.498374Z",
     "iopub.status.idle": "2024-04-23T12:28:58.515843Z",
     "shell.execute_reply": "2024-04-23T12:28:58.513145Z",
     "shell.execute_reply.started": "2024-04-23T12:28:58.498961Z"
    }
   },
   "outputs": [],
   "source": [
    "def translate_sequence(sentence, pli, ktl, device, max_length=50):\n",
    "    if type(sentence) == str:\n",
    "        tokens = [token.lower() for token in sentence.split()]\n",
    "    else:\n",
    "        tokens = [token.lower() for token in sentence]\n",
    "    # Add <SOS> and <EOS> in beginning and end respectively\n",
    "\n",
    "    tokens.insert(0, pli.init_token)\n",
    "    tokens.append(pli.eos_token)\n",
    "\n",
    "    # Iterate  each languae token and convert to an index\n",
    "    text_to_indices = [pli.vocab.stoi[token] for token in tokens]\n",
    "\n",
    "    # Convert to Tensor\n",
    "    sentence_tensor = torch.LongTensor(text_to_indices).unsqueeze(1).to(device)\n",
    "\n",
    "    outputs = [ktl.vocab.stoi[\"<sos>\"]]\n",
    "    for i in range(max_length):\n",
    "        trg_tensor = torch.LongTensor(outputs).unsqueeze(1).to(device)\n",
    "\n",
    "        with torch.no_grad():\n",
    "            output = model(sentence_tensor, trg_tensor)\n",
    "\n",
    "        best_guess = output.argmax(2)[-1, :].item()\n",
    "        outputs.append(best_guess)\n",
    "\n",
    "        if best_guess == ktl.vocab.stoi[\"<eos>\"]:\n",
    "            break\n",
    "\n",
    "    translated_sentence = [ktl.vocab.itos[idx] for idx in outputs]\n",
    "    # remove start token\n",
    "    return translated_sentence[1:]"
   ]
  },
  {
   "cell_type": "markdown",
   "id": "2ad703ec-769e-4d94-8094-6a3c0ef12579",
   "metadata": {},
   "source": [
    "### Transpile"
   ]
  },
  {
   "cell_type": "markdown",
   "id": "2596f25f-d79e-4979-8948-deabfa76b81e",
   "metadata": {},
   "source": [
    "We define a **transpile_sequence** function. It retrieves the code tokens and context data from the input dictionary. Then, it initializes an empty list to store the transpiled code with proper indentation. The function then iterates through the tokens, adjusting the indentation level based on curly braces {} encountered in the code. It ignores the <eos> token. And after iterating through all the tokens, the function joins the transpiled code with proper spacing and renders it using the contextual data. Finally, it returns the transpiled code and the updated indentation level."
   ]
  },
  {
   "cell_type": "code",
   "execution_count": 26,
   "id": "a7b965e5-5119-496c-94c1-9f19923c2d0f",
   "metadata": {
    "execution": {
     "iopub.execute_input": "2024-04-23T12:28:58.519443Z",
     "iopub.status.busy": "2024-04-23T12:28:58.518285Z",
     "iopub.status.idle": "2024-04-23T12:28:58.530245Z",
     "shell.execute_reply": "2024-04-23T12:28:58.528476Z",
     "shell.execute_reply.started": "2024-04-23T12:28:58.519376Z"
    }
   },
   "outputs": [],
   "source": [
    "def transpile_sequence(translated, level):\n",
    "    tokens = translated[\"code\"]\n",
    "    data = translated[\"context\"]\n",
    "    lint = []\n",
    "\n",
    "    for t in tokens:\n",
    "        spacer = \"\".rjust(level * 4)\n",
    "        if t == \"{\":\n",
    "            level += 1\n",
    "        elif t == \"}\" and level > 0:\n",
    "            level -= 1\n",
    "            spacer = \"\".rjust(level * 4)\n",
    "\n",
    "        if t != \"<eos>\":\n",
    "            lint.append(spacer + t)\n",
    "\n",
    "    code = \" \".join(lint)\n",
    "    t = Template(code)\n",
    "\n",
    "    return t.render(data), level"
   ]
  },
  {
   "cell_type": "markdown",
   "id": "4bf7c546-2c41-4705-8ad5-52a6795a5673",
   "metadata": {},
   "source": [
    "## Training"
   ]
  },
  {
   "cell_type": "markdown",
   "id": "19623d04-e9bf-45ce-8106-b4590eb70a13",
   "metadata": {},
   "source": [
    "### Hyperparameters"
   ]
  },
  {
   "cell_type": "markdown",
   "id": "8cd4823c-a5fd-451c-911b-434081ae5190",
   "metadata": {},
   "source": [
    "We define some **model hyperparameters** that help define how our model processes and transforms our input data. We also define some **training hyperparameters** that regulate the training process of our model"
   ]
  },
  {
   "cell_type": "code",
   "execution_count": 27,
   "id": "08426766-1700-48c7-b48a-8f9d12fab20c",
   "metadata": {
    "execution": {
     "iopub.execute_input": "2024-04-23T12:28:58.533476Z",
     "iopub.status.busy": "2024-04-23T12:28:58.532912Z",
     "iopub.status.idle": "2024-04-23T12:28:58.546249Z",
     "shell.execute_reply": "2024-04-23T12:28:58.544288Z",
     "shell.execute_reply.started": "2024-04-23T12:28:58.533431Z"
    }
   },
   "outputs": [],
   "source": [
    "# ready to define everything we need for training our Seq2Seq model\n",
    "device = torch.device(\"cuda\" if torch.cuda.is_available() else \"cpu\")\n",
    "\n",
    "load_model = True\n",
    "save_model = True\n",
    "\n",
    "# Model hyperparameters\n",
    "src_vocab_size = len(pli.vocab)\n",
    "trg_vocab_size = len(ktl.vocab)\n",
    "embedding_size = 512\n",
    "num_heads = 8\n",
    "num_encoder_layers = 6\n",
    "num_decoder_layers = 6\n",
    "dropout = 0.10\n",
    "max_len = 100\n",
    "forward_expansion = 4\n",
    "src_pad_idx = ktl.vocab.stoi[\"<pad>\"]\n",
    "\n",
    "global level\n",
    "# Training hyperparameters\n",
    "num_epochs = 150\n",
    "learning_rate = 3e-4\n",
    "batch_size = 32\n",
    "training_losses = []"
   ]
  },
  {
   "cell_type": "markdown",
   "id": "2cd83f2c-6d63-44b0-88bc-269aaa7e32f4",
   "metadata": {},
   "source": [
    "### Specifics"
   ]
  },
  {
   "cell_type": "markdown",
   "id": "43d5a25e-8d9e-41d8-b800-8c623f3e2c63",
   "metadata": {},
   "source": [
    "This **remove_eos** function removes all \"< eos >\" tokens and then concatenate the remaining tokens into a single string"
   ]
  },
  {
   "cell_type": "code",
   "execution_count": 28,
   "id": "470fdc5a-d58f-417d-a82a-b7a65842b098",
   "metadata": {
    "execution": {
     "iopub.execute_input": "2024-04-23T12:28:58.552515Z",
     "iopub.status.busy": "2024-04-23T12:28:58.551974Z",
     "iopub.status.idle": "2024-04-23T12:28:58.561886Z",
     "shell.execute_reply": "2024-04-23T12:28:58.559473Z",
     "shell.execute_reply.started": "2024-04-23T12:28:58.552478Z"
    }
   },
   "outputs": [],
   "source": [
    "def remove_eos(witheos):\n",
    "    noeos = []\n",
    "    for w in witheos:\n",
    "        if w != '<eos>':\n",
    "            noeos.append(w)\n",
    "    return \" \".join(noeos)"
   ]
  },
  {
   "cell_type": "markdown",
   "id": "a2f282dd-3afc-4d7c-b9db-6f558e81e77c",
   "metadata": {},
   "source": [
    "\n",
    "These functions, **save_checkpoint** and **load_checkpoint**, are essential for saving and loading the state of a model during training or inference."
   ]
  },
  {
   "cell_type": "code",
   "execution_count": 29,
   "id": "fc4e57c0-6e30-4d3a-adae-4c35d4a7045f",
   "metadata": {
    "execution": {
     "iopub.execute_input": "2024-04-23T12:28:58.565223Z",
     "iopub.status.busy": "2024-04-23T12:28:58.564750Z",
     "iopub.status.idle": "2024-04-23T12:28:58.577090Z",
     "shell.execute_reply": "2024-04-23T12:28:58.574468Z",
     "shell.execute_reply.started": "2024-04-23T12:28:58.565186Z"
    }
   },
   "outputs": [],
   "source": [
    "def save_checkpoint(state, filename=\"checkpoint.pth.tar\"):\n",
    "    print(\"=> Saving checkpoint\")\n",
    "    torch.save(state, filename)\n",
    "\n",
    "\n",
    "def load_checkpoint(checkpoint, model, optimizer):\n",
    "    print(\"=> Loading checkpoint\")\n",
    "    model.load_state_dict(checkpoint[\"state_dict\"])\n",
    "    optimizer.load_state_dict(checkpoint[\"optimizer\"])"
   ]
  },
  {
   "cell_type": "markdown",
   "id": "fe6674fb-ac75-40c0-a3ba-8214e868a38e",
   "metadata": {},
   "source": [
    "### Model Initialization and Training Setup"
   ]
  },
  {
   "cell_type": "markdown",
   "id": "4a3b6171-3c47-4603-9b68-a0ad39d8d14b",
   "metadata": {},
   "source": [
    "Here we **initialize** the model, optimizer, scheduler, and criterion for training a Transformer model. It also creates **iterators** for the training and test datasets."
   ]
  },
  {
   "cell_type": "code",
   "execution_count": 30,
   "id": "685f48ba-4676-4cc7-9506-69b8de07f19d",
   "metadata": {
    "execution": {
     "iopub.execute_input": "2024-04-23T12:28:58.579484Z",
     "iopub.status.busy": "2024-04-23T12:28:58.578994Z",
     "iopub.status.idle": "2024-04-23T12:28:59.207455Z",
     "shell.execute_reply": "2024-04-23T12:28:59.205975Z",
     "shell.execute_reply.started": "2024-04-23T12:28:58.579437Z"
    }
   },
   "outputs": [],
   "source": [
    "train_iterator, test_iterator = BucketIterator.splits(\n",
    "    (train, test),\n",
    "    batch_size=batch_size,\n",
    "    sort_within_batch=True,\n",
    "    sort_key=lambda x: len(x.p),\n",
    "    device=device,\n",
    ")\n",
    "model = Transformer(\n",
    "    embedding_size,\n",
    "    src_vocab_size,\n",
    "    trg_vocab_size,\n",
    "    src_pad_idx,\n",
    "    num_heads,\n",
    "    num_encoder_layers,\n",
    "    num_decoder_layers,\n",
    "    forward_expansion,\n",
    "    dropout,\n",
    "    max_len,\n",
    "    device,\n",
    ").to(device)\n",
    "\n",
    "optimizer = optim.Adam(model.parameters(), lr=learning_rate)\n",
    "\n",
    "scheduler = torch.optim.lr_scheduler.ReduceLROnPlateau(\n",
    "    optimizer, factor=0.1, patience=10, verbose=True\n",
    ")\n",
    "\n",
    "pad_idx = ktl.vocab.stoi[\"<pad>\"]\n",
    "criterion = nn.CrossEntropyLoss(ignore_index=pad_idx)"
   ]
  },
  {
   "cell_type": "markdown",
   "id": "b655be9a-b42d-49b4-a31d-cb3423b11219",
   "metadata": {},
   "source": [
    "### Training loop"
   ]
  },
  {
   "cell_type": "markdown",
   "id": "e7e1d111-ccfc-479f-ab39-efa30c3d2f53",
   "metadata": {},
   "source": [
    "Within the training loop, batches of data are fetched using the **training_iterator**. Input and target sequences are transferred to the appropriate device (CPU or GPU), and the model is then trained using **forward** and **backward** passes. **Gradient clipping** is applied to prevent exploding gradients, and the **optimizer** is used to update the model parameters based on the computed gradients. After training, we evaluate the model's performance on example pli sequences, translating them to Kotlin using the trained model. Finally we utilise matplotlib to visualize the training loss over iterations and optionally save the trained model checkpoint for future use."
   ]
  },
  {
   "cell_type": "code",
   "execution_count": 37,
   "id": "45a6cb24-b320-452a-ade5-509323d2b49c",
   "metadata": {
    "execution": {
     "iopub.execute_input": "2024-04-23T12:57:23.432122Z",
     "iopub.status.busy": "2024-04-23T12:57:23.431278Z",
     "iopub.status.idle": "2024-04-23T12:57:47.872870Z",
     "shell.execute_reply": "2024-04-23T12:57:47.870428Z",
     "shell.execute_reply.started": "2024-04-23T12:57:23.432055Z"
    }
   },
   "outputs": [
    {
     "name": "stdout",
     "output_type": "stream",
     "text": [
      "[Epoch 0 / 150]\n",
      "Translated example sentence:\n",
      "fun main (args: Array<String>)\n",
      "{\n",
      "}\n",
      "Last 5 training losses: [0.0010398576268926263, 0.0009446950280107558, 0.0011541706044226885, 0.0009388906182721257, 0.0008597169071435928]\n",
      "[Epoch 50 / 150]\n",
      "Translated example sentence:\n",
      "fun main (args: Array<String>)\n",
      "{\n",
      "}\n",
      "Last 5 training losses: [0.0009497507708147168, 0.0007547992863692343, 0.0007884445367380977, 0.0007842038758099079, 0.0008303519571200013]\n",
      "[Epoch 100 / 150]\n",
      "Translated example sentence:\n",
      "fun main (args: Array<String>)\n",
      "{\n",
      "}\n",
      "Last 5 training losses: [0.0008076311205513775, 0.0008211977547034621, 0.0009123978670686483, 0.0010878389002755284, 0.0008459058008156717]\n",
      "[Epoch 150 / 150]\n",
      "fun main (args: Array<String>)\n",
      "{\n",
      "}\n",
      "Last 5 training losses: [0.000833471363876015, 0.0008147450862452388, 0.0011860905215144157, 0.0009011754300445318, 0.0007047638646326959]\n"
     ]
    },
    {
     "data": {
      "image/png": "[encoded data removed]",
      "text/plain": [
       "<Figure size 640x480 with 1 Axes>"
      ]
     },
     "metadata": {},
     "output_type": "display_data"
    },
    {
     "name": "stdout",
     "output_type": "stream",
     "text": [
      "=> Saving checkpoint\n"
     ]
    }
   ],
   "source": [
    "if __name__ == '__main__':\n",
    "    for epoch in range(num_epochs):\n",
    "        model.eval()\n",
    "        # little bit of output to check the progress\n",
    "        if epoch % 50 == 0:\n",
    "            print(f\"[Epoch {epoch} / {num_epochs}]\")\n",
    "            # Iterate over the dataset and extract PLI sequences\n",
    "            sentences = [\n",
    "                    {'pli': ['PROCEDURE', 'MAIN', '{{type0}}', '{{type1}}'],\n",
    "                     'context': {'type0': 'Array', 'type1': 'String'}},\n",
    "                    {'pli': ['DO'], 'context': {}},\n",
    "                    {'pli': ['END'], 'context': {}}\n",
    "                ]\n",
    "            print(f\"Translated example sentence:\")\n",
    "            level = 0\n",
    "            for s in sentences:\n",
    "                translated = translate_sequence(\n",
    "                    s['pli'], pli, ktl, device, max_length=50\n",
    "                )\n",
    "                transpiled, level = transpile_sequence({\n",
    "                    'code': translated,\n",
    "                    'context': s['context']\n",
    "                }, level)\n",
    "                print(f\"{transpiled}\")\n",
    "            last_5_losses = training_losses[-5:]\n",
    "            print(\"Last 5 training losses:\", last_5_losses)\n",
    "        model.train()\n",
    "        losses = []\n",
    "        for batch_idx, batch in enumerate(train_iterator):\n",
    "            # Get input and targets and get to cuda\n",
    "            inp_data = batch.p.to(device)\n",
    "            target = batch.k.to(device)\n",
    "            # Forward\n",
    "            output = model(inp_data, target[:-1, :])\n",
    "            output = output.reshape(-1, output.shape[2])\n",
    "            target = target[1:].reshape(-1)\n",
    "            optimizer.zero_grad()\n",
    "            loss = criterion(output, target)\n",
    "            losses.append(loss.item())\n",
    "            # Back prop\n",
    "            loss.backward()\n",
    "            # Clip to avoid exploding gradient issues, makes sure grads are\n",
    "            # within a healthy range\n",
    "            torch.nn.utils.clip_grad_norm_(model.parameters(), max_norm=1)\n",
    "            # Gradient descent step\n",
    "            optimizer.step()\n",
    "\n",
    "            training_losses.append(loss.item())\n",
    "        mean_loss = sum(losses) / len(losses)\n",
    "        scheduler.step(mean_loss)\n",
    "     # Print the final epoch\n",
    "    print(f\"[Epoch {num_epochs} / {num_epochs}]\")\n",
    "    # Iterate over the dataset and extract PLI sequences\n",
    "    for s in sentences:\n",
    "        translated = translate_sequence(\n",
    "            s['pli'], pli, ktl, device, max_length=50\n",
    "        )\n",
    "        transpiled, level = transpile_sequence({\n",
    "            'code': translated,\n",
    "            'context': s['context']\n",
    "        }, level)\n",
    "        print(f\"{transpiled}\")\n",
    "        # Translate and transpile here if needed\n",
    "    last_5_losses = training_losses[-5:]\n",
    "    print(\"Last 5 training losses:\", last_5_losses)\n",
    "\n",
    "    plt.plot(training_losses, label='Training Loss')\n",
    "    plt.xlabel('Iterations')\n",
    "    plt.ylabel('training_losses')\n",
    "    plt.title('Training Loss Over Iterations')\n",
    "    plt.legend()\n",
    "    plt.show()\n",
    "if save_model:\n",
    "    checkpoint = {\n",
    "        \"state_dict\": model.state_dict(),\n",
    "        \"optimizer\": optimizer.state_dict(),\n",
    "    }\n",
    "    save_checkpoint(checkpoint)"
   ]
  },
  {
   "cell_type": "markdown",
   "id": "2138879f-8b33-41bc-898a-9e3611f82c08",
   "metadata": {},
   "source": [
    "### Running the model "
   ]
  },
  {
   "cell_type": "markdown",
   "id": "45909bb6-a9fc-4f7b-9288-59cb5e9d1997",
   "metadata": {},
   "source": [
    "Finally, to show how our transpiller works, we define a **run_model** function where we're processing a PL1 file, which contains original PL1 code. First, we load our pre-trained model and its optimizer using the checkpoint file. Then, we set up a lexer and parser for the PL1 code using ANTLR4. We generate a dataset from the parsed code using a visitor pattern, which iterates through the AST (Abstract Syntax Tree) generated by the parser. For each statement in the PL1 code, we translate it into Kotlin using our sequence-to-sequence model and transpile it into Kotlin code. The transpiled Kotlin code is accumulated and printed as the output. This function essentially automates the process of translating our PL1 code to Kotlin"
   ]
  },
  {
   "cell_type": "code",
   "execution_count": 32,
   "id": "7520bf5d-6902-41ee-bb85-956ca92b52b3",
   "metadata": {
    "execution": {
     "iopub.execute_input": "2024-04-23T12:29:26.571588Z",
     "iopub.status.busy": "2024-04-23T12:29:26.568262Z",
     "iopub.status.idle": "2024-04-23T12:29:29.184686Z",
     "shell.execute_reply": "2024-04-23T12:29:29.183334Z",
     "shell.execute_reply.started": "2024-04-23T12:29:26.571500Z"
    }
   },
   "outputs": [
    {
     "name": "stdout",
     "output_type": "stream",
     "text": [
      "PL1:\n",
      "\n",
      " Factorial: proc options (main);\n",
      "    dcl (n,result) fixed bin(31);\n",
      "    n  = 5;\n",
      "    result = Compute_factorial(n);\n",
      "\n",
      " end Factorial;\n",
      "  /***********************************************/\n",
      "  /* Subroutine                                  */\n",
      "  /***********************************************/\n",
      "  Compute_factorial: proc (n)  returns (fixed bin(31));\n",
      "     dcl n fixed bin(15);\n",
      "      if n <= 1 then\n",
      "        return(1);\n",
      "\n",
      "     return( n*Compute_factorial(n-1) );\n",
      "\n",
      "  end Compute_factorial;\n",
      "\n",
      "\n",
      "=> Loading checkpoint\n",
      "KTL:\n",
      "\n",
      "fun main (args: Array<String>)\n",
      "{\n",
      "    var     n : Int\n",
      "    var     result : Int\n",
      "    n = 5\n",
      "    result = compute_factorial(n)\n",
      "}\n",
      "fun compute_factorial(n : Int) : Int\n",
      "{\n",
      "    if(n<=1)\n",
      "    {\n",
      "        return 1\n",
      "    }\n",
      "    return n*compute_factorial(n-1)\n",
      "}\n",
      "\n"
     ]
    }
   ],
   "source": [
    "def run_model(filename):\n",
    "\n",
    "    with open(filename, 'r') as file:\n",
    "        original_code = file.read()\n",
    "    print(\"PL1:\")\n",
    "    print(original_code)\n",
    "    print()\n",
    "\n",
    "    load_checkpoint(torch.load(\"checkpoint.pth.tar\"), model, optimizer)\n",
    "    # Lexer setup\n",
    "    input_stream = FileStream(filename)\n",
    "    lexer = PLILexer(input_stream)\n",
    "    stream = CommonTokenStream(lexer)\n",
    "\n",
    "    # Parser setup\n",
    "    parser = PLIParser(stream)\n",
    "    tree = parser.program()\n",
    "\n",
    "    # Dataset generation\n",
    "    visitor = PLIVisitor()\n",
    "    statements = visitor.visit(tree)\n",
    "\n",
    "    # Accumulate transpiled sequences\n",
    "    transpiled_code = \"\"\n",
    "    level = 0\n",
    "    for s in statements:\n",
    "        translated = translate_sequence(\n",
    "            s[\"pli\"], pli, ktl, device, max_length=50\n",
    "        )\n",
    "        transpiled, level = transpile_sequence({\n",
    "            'code': translated,\n",
    "            'context': s['context']\n",
    "        }, level)\n",
    "        transpiled_code += transpiled+ \"\\n\"\n",
    "\n",
    "    # Print the entire block of transpiled code\n",
    "    print(\"KTL:\")\n",
    "    print(\"\\n\" + transpiled_code)\n",
    "\n",
    "# Example usage:\n",
    "filename = \"FIB.PLI\"  # Replace with the actual filename\n",
    "run_model(filename)"
   ]
  }
 ],
 "metadata": {
  "kernelspec": {
   "display_name": "Python 3 (ipykernel)",
   "language": "python",
   "name": "python3"
  },
  "language_info": {
   "codemirror_mode": {
    "name": "ipython",
    "version": 3
   },
   "file_extension": ".py",
   "mimetype": "text/x-python",
   "name": "python",
   "nbconvert_exporter": "python",
   "pygments_lexer": "ipython3",
   "version": "3.9.6"
  }
 },
 "nbformat": 4,
 "nbformat_minor": 5
}
