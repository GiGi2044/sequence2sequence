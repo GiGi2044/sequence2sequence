{
 "cells": [
  {
   "cell_type": "markdown",
   "id": "2f1da560-8eed-4a96-a97c-7aecc57bff6e",
   "metadata": {},
   "source": [
    "## Introduction"
   ]
  },
  {
   "cell_type": "markdown",
   "id": "5f43e528-92db-41c9-b8b0-8f8f9092214b",
   "metadata": {},
   "source": [
    "This notebook presents an implementation of a **sequence-to-sequence** (Seq2Seq) model using PyTorch. The model, built from scratch, leverages the **Transformer** architecture, a state-of-the-art model for sequence transduction tasks."
   ]
  },
  {
   "cell_type": "markdown",
   "id": "d6692af6-f6dc-486a-b369-7918d54a74cf",
   "metadata": {},
   "source": [
    "## Installing libraries"
   ]
  },
  {
   "cell_type": "code",
   "execution_count": 1,
   "id": "5c39b85a-ad6e-461a-9220-4c96dcca837a",
   "metadata": {
    "execution": {
     "iopub.execute_input": "2024-04-19T08:38:28.615941Z",
     "iopub.status.busy": "2024-04-19T08:38:28.615502Z",
     "iopub.status.idle": "2024-04-19T08:38:44.056167Z",
     "shell.execute_reply": "2024-04-19T08:38:44.054704Z",
     "shell.execute_reply.started": "2024-04-19T08:38:28.615890Z"
    }
   },
   "outputs": [
    {
     "name": "stdout",
     "output_type": "stream",
     "text": [
      "Requirement already satisfied: torch==1.7.1 in /usr/local/lib/python3.9/dist-packages (1.7.1)\n",
      "Requirement already satisfied: torchvision==0.8.2 in /usr/local/lib/python3.9/dist-packages (0.8.2)\n",
      "Requirement already satisfied: torchaudio==0.7.2 in /usr/local/lib/python3.9/dist-packages (0.7.2)\n",
      "Requirement already satisfied: numpy in /usr/local/lib/python3.9/dist-packages (from torch==1.7.1) (1.23.4)\n",
      "Requirement already satisfied: typing-extensions in /usr/local/lib/python3.9/dist-packages (from torch==1.7.1) (4.4.0)\n",
      "Requirement already satisfied: pillow>=4.1.1 in /usr/local/lib/python3.9/dist-packages (from torchvision==0.8.2) (9.2.0)\n",
      "\u001b[33mWARNING: Running pip as the 'root' user can result in broken permissions and conflicting behaviour with the system package manager. It is recommended to use a virtual environment instead: https://pip.pypa.io/warnings/venv\u001b[0m\u001b[33m\n",
      "\u001b[0mRequirement already satisfied: torchtext==0.8.1 in /usr/local/lib/python3.9/dist-packages (0.8.1)\n",
      "Requirement already satisfied: tqdm in /usr/local/lib/python3.9/dist-packages (from torchtext==0.8.1) (4.64.1)\n",
      "Requirement already satisfied: numpy in /usr/local/lib/python3.9/dist-packages (from torchtext==0.8.1) (1.23.4)\n",
      "Requirement already satisfied: requests in /usr/local/lib/python3.9/dist-packages (from torchtext==0.8.1) (2.28.2)\n",
      "Requirement already satisfied: torch==1.7.1 in /usr/local/lib/python3.9/dist-packages (from torchtext==0.8.1) (1.7.1)\n",
      "Requirement already satisfied: typing-extensions in /usr/local/lib/python3.9/dist-packages (from torch==1.7.1->torchtext==0.8.1) (4.4.0)\n",
      "Requirement already satisfied: idna<4,>=2.5 in /usr/lib/python3/dist-packages (from requests->torchtext==0.8.1) (2.8)\n",
      "Requirement already satisfied: charset-normalizer<4,>=2 in /usr/local/lib/python3.9/dist-packages (from requests->torchtext==0.8.1) (2.1.1)\n",
      "Requirement already satisfied: urllib3<1.27,>=1.21.1 in /usr/local/lib/python3.9/dist-packages (from requests->torchtext==0.8.1) (1.26.14)\n",
      "Requirement already satisfied: certifi>=2017.4.17 in /usr/lib/python3/dist-packages (from requests->torchtext==0.8.1) (2019.11.28)\n",
      "\u001b[33mWARNING: Running pip as the 'root' user can result in broken permissions and conflicting behaviour with the system package manager. It is recommended to use a virtual environment instead: https://pip.pypa.io/warnings/venv\u001b[0m\u001b[33m\n",
      "\u001b[0mRequirement already satisfied: antlr4-python3-runtime==4.9.2 in /usr/local/lib/python3.9/dist-packages (4.9.2)\n",
      "\u001b[33mWARNING: Running pip as the 'root' user can result in broken permissions and conflicting behaviour with the system package manager. It is recommended to use a virtual environment instead: https://pip.pypa.io/warnings/venv\u001b[0m\u001b[33m\n",
      "\u001b[0m"
     ]
    }
   ],
   "source": [
    "!pip install torch==1.7.1 torchvision==0.8.2 torchaudio==0.7.2\n",
    "!pip install torchtext==0.8.1\n",
    "!pip install antlr4-python3-runtime==4.9.2"
   ]
  },
  {
   "cell_type": "markdown",
   "id": "3c7ab93a-68f0-429a-85e8-8f68a11eb997",
   "metadata": {},
   "source": [
    "## Importing libraries"
   ]
  },
  {
   "cell_type": "code",
   "execution_count": 2,
   "id": "1fa9b17b-24bf-4cb8-860c-fb1ed8bb988a",
   "metadata": {
    "execution": {
     "iopub.execute_input": "2024-04-19T08:39:44.922484Z",
     "iopub.status.busy": "2024-04-19T08:39:44.921867Z",
     "iopub.status.idle": "2024-04-19T08:39:47.277802Z",
     "shell.execute_reply": "2024-04-19T08:39:47.275485Z",
     "shell.execute_reply.started": "2024-04-19T08:39:44.922431Z"
    }
   },
   "outputs": [],
   "source": [
    "import matplotlib.pyplot as plt\n",
    "import sys\n",
    "import json\n",
    "from antlr4 import *\n",
    "from pli.PLILexer import PLILexer\n",
    "from pli.PLIParser import PLIParser\n",
    "from pli.PLIVisitor import PLIVisitor\n",
    "\n",
    "import torch\n",
    "import torch.nn as nn\n",
    "import torch.optim as optim\n",
    "from torchtext.data import Field, TabularDataset, BucketIterator\n",
    "from jinja2 import Template\n",
    "\n",
    "from pathlib import Path\n",
    "from datasets import Dataset,DatasetDict\n",
    "import pandas as pd"
   ]
  },
  {
   "cell_type": "markdown",
   "id": "3c450d3e-f442-45f2-bfe1-d3512e6b61ec",
   "metadata": {},
   "source": [
    "## The model"
   ]
  },
  {
   "cell_type": "markdown",
   "id": "0d1871b9-794a-4243-813f-dc90d1576328",
   "metadata": {},
   "source": [
    "We define a custom Transformer class from scratch"
   ]
  },
  {
   "cell_type": "code",
   "execution_count": 3,
   "id": "83a751df-600d-4f8a-addf-a8e9ddda6cbe",
   "metadata": {
    "execution": {
     "iopub.execute_input": "2024-04-19T08:39:52.234222Z",
     "iopub.status.busy": "2024-04-19T08:39:52.232300Z",
     "iopub.status.idle": "2024-04-19T08:39:52.254424Z",
     "shell.execute_reply": "2024-04-19T08:39:52.252631Z",
     "shell.execute_reply.started": "2024-04-19T08:39:52.234097Z"
    }
   },
   "outputs": [],
   "source": [
    "class Transformer(nn.Module):\n",
    "    def __init__(\n",
    "            self,\n",
    "            embedding_size,\n",
    "            src_vocab_size,\n",
    "            trg_vocab_size,\n",
    "            src_pad_idx,\n",
    "            num_heads,\n",
    "            num_encoder_layers,\n",
    "            num_decoder_layers,\n",
    "            forward_expansion,\n",
    "            dropout,\n",
    "            max_len,\n",
    "            device,\n",
    "    ):\n",
    "        super(Transformer, self).__init__()\n",
    "        self.src_word_embedding = nn.Embedding(src_vocab_size, embedding_size)\n",
    "        self.src_position_embedding = nn.Embedding(max_len, embedding_size)\n",
    "        self.trg_word_embedding = nn.Embedding(trg_vocab_size, embedding_size)\n",
    "        self.trg_position_embedding = nn.Embedding(max_len, embedding_size)\n",
    "\n",
    "        self.device = device\n",
    "        self.transformer = nn.Transformer(\n",
    "            embedding_size,\n",
    "            num_heads,\n",
    "            num_encoder_layers,\n",
    "            num_decoder_layers,\n",
    "            forward_expansion,\n",
    "            dropout,\n",
    "        )\n",
    "        self.fc_out = nn.Linear(embedding_size, trg_vocab_size)\n",
    "        self.dropout = nn.Dropout(dropout)\n",
    "        self.src_pad_idx = src_pad_idx\n",
    "\n",
    "    def make_src_mask(self, src):\n",
    "        src_mask = src.transpose(0, 1) == self.src_pad_idx\n",
    "\n",
    "        # (N, src_len)\n",
    "        return src_mask.to(self.device)\n",
    "\n",
    "    def forward(self, src, trg):\n",
    "        src_seq_length, N = src.shape\n",
    "        trg_seq_length, N = trg.shape\n",
    "\n",
    "        src_positions = (\n",
    "            torch.arange(0, src_seq_length)\n",
    "                .unsqueeze(1)\n",
    "                .expand(src_seq_length, N)\n",
    "                .to(self.device)\n",
    "        )\n",
    "\n",
    "        trg_positions = (\n",
    "            torch.arange(0, trg_seq_length)\n",
    "                .unsqueeze(1)\n",
    "                .expand(trg_seq_length, N)\n",
    "                .to(self.device)\n",
    "        )\n",
    "\n",
    "        embed_src = self.dropout(\n",
    "            (self.src_word_embedding(src) + self.src_position_embedding(src_positions))\n",
    "        )\n",
    "        embed_trg = self.dropout(\n",
    "            (self.trg_word_embedding(trg) + self.trg_position_embedding(trg_positions))\n",
    "        )\n",
    "\n",
    "        src_padding_mask = self.make_src_mask(src)\n",
    "        trg_mask = self.transformer.generate_square_subsequent_mask(trg_seq_length).to(\n",
    "            self.device\n",
    "        )\n",
    "\n",
    "        out = self.transformer(\n",
    "            embed_src,\n",
    "            embed_trg,\n",
    "            src_key_padding_mask=src_padding_mask,\n",
    "            tgt_mask=trg_mask,\n",
    "        )\n",
    "        out = self.fc_out(out)\n",
    "        return out"
   ]
  },
  {
   "cell_type": "markdown",
   "id": "2f95555c-514a-4ba7-a729-e7c5c88edb11",
   "metadata": {},
   "source": [
    "## EDA"
   ]
  },
  {
   "cell_type": "markdown",
   "id": "8f0ea9c3-0261-427e-99a3-2b293a694685",
   "metadata": {},
   "source": [
    "### Tokenize"
   ]
  },
  {
   "cell_type": "markdown",
   "id": "f87b8c6d-5dfb-4b20-a80b-95309cf8a8dc",
   "metadata": {},
   "source": [
    "We define a simple **tokenizer** that splits a string into tokens based on whitespace, it then creates two \"Field\" objects with some specifications and finally we create a dictionary that maps field names to tuples to be used later to specify how to load and process the data "
   ]
  },
  {
   "cell_type": "code",
   "execution_count": 4,
   "id": "6c127116-54cb-4570-84cc-73ebb591f2a8",
   "metadata": {
    "execution": {
     "iopub.execute_input": "2024-04-19T08:39:56.077924Z",
     "iopub.status.busy": "2024-04-19T08:39:56.076363Z",
     "iopub.status.idle": "2024-04-19T08:39:56.089397Z",
     "shell.execute_reply": "2024-04-19T08:39:56.087806Z",
     "shell.execute_reply.started": "2024-04-19T08:39:56.077861Z"
    }
   },
   "outputs": [
    {
     "name": "stderr",
     "output_type": "stream",
     "text": [
      "/usr/local/lib/python3.9/dist-packages/torchtext/data/field.py:150: UserWarning: Field class will be retired soon and moved to torchtext.legacy. Please see the most recent release notes for further information.\n",
      "  warnings.warn('{} class will be retired soon and moved to torchtext.legacy. Please see the most recent release notes for further information.'.format(self.__class__.__name__), UserWarning)\n"
     ]
    }
   ],
   "source": [
    "import torchtext.data as data\n",
    "\n",
    "tokenizer = lambda x: x.split()\n",
    "\n",
    "pli = data.Field(sequential=True, use_vocab=True, tokenize=tokenizer, lower=True, init_token=\"<sos>\", eos_token=\"<eos>\")\n",
    "ktl = data.Field(sequential=True, use_vocab=True, tokenize=tokenizer, lower=True, init_token=\"<sos>\", eos_token=\"<eos>\")\n",
    "\n",
    "fields = {'pli': ('p', pli), 'ktl': ('k', ktl)}"
   ]
  },
  {
   "cell_type": "markdown",
   "id": "1161956e-fb38-484e-a7ea-1ce7e074183d",
   "metadata": {},
   "source": [
    "### Splits"
   ]
  },
  {
   "cell_type": "markdown",
   "id": "78bb0945-e0d9-4a1d-be24-969287dc3c59",
   "metadata": {},
   "source": [
    "We define training and test splits"
   ]
  },
  {
   "cell_type": "code",
   "execution_count": 5,
   "id": "bf949e1f-8a60-401d-9f6e-8f81c9e4d0a0",
   "metadata": {
    "execution": {
     "iopub.execute_input": "2024-04-19T08:39:59.205766Z",
     "iopub.status.busy": "2024-04-19T08:39:59.205401Z",
     "iopub.status.idle": "2024-04-19T08:39:59.216307Z",
     "shell.execute_reply": "2024-04-19T08:39:59.214503Z",
     "shell.execute_reply.started": "2024-04-19T08:39:59.205740Z"
    }
   },
   "outputs": [
    {
     "name": "stderr",
     "output_type": "stream",
     "text": [
      "/usr/local/lib/python3.9/dist-packages/torchtext/data/example.py:13: UserWarning: Example class will be retired soon and moved to torchtext.legacy. Please see the most recent release notes for further information.\n",
      "  warnings.warn('Example class will be retired soon and moved to torchtext.legacy. Please see the most recent release notes for further information.', UserWarning)\n"
     ]
    }
   ],
   "source": [
    "train, test = data.TabularDataset.splits(\n",
    "    path='data',\n",
    "    train='train.json',\n",
    "    test='test.json',\n",
    "    format='json',\n",
    "    fields=fields,\n",
    ")"
   ]
  },
  {
   "cell_type": "markdown",
   "id": "ed0c78c8-e6e8-4176-94a6-c64c7e578db6",
   "metadata": {
    "execution": {
     "iopub.execute_input": "2024-04-17T09:30:39.739005Z",
     "iopub.status.busy": "2024-04-17T09:30:39.738420Z",
     "iopub.status.idle": "2024-04-17T09:30:39.745689Z",
     "shell.execute_reply": "2024-04-17T09:30:39.744054Z",
     "shell.execute_reply.started": "2024-04-17T09:30:39.738961Z"
    }
   },
   "source": [
    "### Vocab"
   ]
  },
  {
   "cell_type": "markdown",
   "id": "10b84fb3-181b-486f-9de3-7f1bb362f716",
   "metadata": {},
   "source": [
    "We build a vocabulary to convert text data into numerical representations"
   ]
  },
  {
   "cell_type": "code",
   "execution_count": 6,
   "id": "c7e493b0-806b-4216-a4e6-2c94932c8bb1",
   "metadata": {
    "execution": {
     "iopub.execute_input": "2024-04-19T08:40:02.536865Z",
     "iopub.status.busy": "2024-04-19T08:40:02.536292Z",
     "iopub.status.idle": "2024-04-19T08:40:02.545047Z",
     "shell.execute_reply": "2024-04-19T08:40:02.543475Z",
     "shell.execute_reply.started": "2024-04-19T08:40:02.536824Z"
    }
   },
   "outputs": [],
   "source": [
    "pli.build_vocab(train, max_size=10000, min_freq=1)\n",
    "ktl.build_vocab(train, max_size=10000, min_freq=1)"
   ]
  },
  {
   "cell_type": "markdown",
   "id": "b63006ee-e498-43b8-ad3a-0a087e687ac5",
   "metadata": {},
   "source": [
    "### Translate"
   ]
  },
  {
   "cell_type": "markdown",
   "id": "3de41b5c-9421-4b6c-a467-53a34887f540",
   "metadata": {},
   "source": [
    "We define a **translate_sequence** function. It tokenizes the input sentence, adds <SOS> and <EOS> tokens at the beginning and end respectively, converts the tokens to indices using the vocabulary of the PL/1 field, converts the indices to a PyTorch tensor, and iteratively predicts the next token in the translated sequence using the trained model until either the <EOS> token is predicted or the maximum length is reached. Finally, it converts the predicted indices back to tokens using the vocabulary of the Kotlin field and returns the translated sentence, removing the start token <sos>"
   ]
  },
  {
   "cell_type": "code",
   "execution_count": 7,
   "id": "16a95ad7-9cd8-4e50-957b-a7640de1ab3a",
   "metadata": {
    "execution": {
     "iopub.execute_input": "2024-04-19T08:40:06.087293Z",
     "iopub.status.busy": "2024-04-19T08:40:06.085841Z",
     "iopub.status.idle": "2024-04-19T08:40:06.102275Z",
     "shell.execute_reply": "2024-04-19T08:40:06.100452Z",
     "shell.execute_reply.started": "2024-04-19T08:40:06.087228Z"
    }
   },
   "outputs": [],
   "source": [
    "def translate_sequence(sentence, pli, ktl, device, max_length=50):\n",
    "    if type(sentence) == str:\n",
    "        tokens = [token.lower() for token in sentence.split()]\n",
    "    else:\n",
    "        tokens = [token.lower() for token in sentence]\n",
    "    # Add <SOS> and <EOS> in beginning and end respectively\n",
    "\n",
    "    tokens.insert(0, pli.init_token)\n",
    "    tokens.append(pli.eos_token)\n",
    "\n",
    "    # Iterate  each languae token and convert to an index\n",
    "    text_to_indices = [pli.vocab.stoi[token] for token in tokens]\n",
    "\n",
    "    # Convert to Tensor\n",
    "    sentence_tensor = torch.LongTensor(text_to_indices).unsqueeze(1).to(device)\n",
    "\n",
    "    outputs = [ktl.vocab.stoi[\"<sos>\"]]\n",
    "    for i in range(max_length):\n",
    "        trg_tensor = torch.LongTensor(outputs).unsqueeze(1).to(device)\n",
    "\n",
    "        with torch.no_grad():\n",
    "            output = model(sentence_tensor, trg_tensor)\n",
    "\n",
    "        best_guess = output.argmax(2)[-1, :].item()\n",
    "        outputs.append(best_guess)\n",
    "\n",
    "        if best_guess == ktl.vocab.stoi[\"<eos>\"]:\n",
    "            break\n",
    "\n",
    "    translated_sentence = [ktl.vocab.itos[idx] for idx in outputs]\n",
    "    # remove start token\n",
    "    return translated_sentence[1:]"
   ]
  },
  {
   "cell_type": "markdown",
   "id": "2ad703ec-769e-4d94-8094-6a3c0ef12579",
   "metadata": {},
   "source": [
    "### Transpile"
   ]
  },
  {
   "cell_type": "markdown",
   "id": "2596f25f-d79e-4979-8948-deabfa76b81e",
   "metadata": {},
   "source": [
    "We define a **transpile_sequence** function. It retrieves the code tokens and context data from the input dictionary. Then, it initializes an empty list to store the transpiled code with proper indentation. The function then iterates through the tokens, adjusting the indentation level based on curly braces {} encountered in the code. It ignores the <eos> token. And after iterating through all the tokens, the function joins the transpiled code with proper spacing and renders it using the contextual data. Finally, it returns the transpiled code and the updated indentation level."
   ]
  },
  {
   "cell_type": "code",
   "execution_count": 8,
   "id": "a7b965e5-5119-496c-94c1-9f19923c2d0f",
   "metadata": {
    "execution": {
     "iopub.execute_input": "2024-04-19T08:40:10.265375Z",
     "iopub.status.busy": "2024-04-19T08:40:10.263913Z",
     "iopub.status.idle": "2024-04-19T08:40:10.275794Z",
     "shell.execute_reply": "2024-04-19T08:40:10.273959Z",
     "shell.execute_reply.started": "2024-04-19T08:40:10.265307Z"
    }
   },
   "outputs": [],
   "source": [
    "def transpile_sequence(translated, level):\n",
    "    tokens = translated[\"code\"]\n",
    "    data = translated[\"context\"]\n",
    "    lint = []\n",
    "\n",
    "    for t in tokens:\n",
    "        spacer = \"\".rjust(level * 4)\n",
    "        if t == \"{\":\n",
    "            level += 1\n",
    "        elif t == \"}\" and level > 0:\n",
    "            level -= 1\n",
    "            spacer = \"\".rjust(level * 4)\n",
    "\n",
    "        if t != \"<eos>\":\n",
    "            lint.append(spacer + t)\n",
    "\n",
    "    code = \" \".join(lint)\n",
    "    t = Template(code)\n",
    "\n",
    "    return t.render(data), level"
   ]
  },
  {
   "cell_type": "markdown",
   "id": "4bf7c546-2c41-4705-8ad5-52a6795a5673",
   "metadata": {},
   "source": [
    "## Training"
   ]
  },
  {
   "cell_type": "markdown",
   "id": "19623d04-e9bf-45ce-8106-b4590eb70a13",
   "metadata": {},
   "source": [
    "### Hyperparameters"
   ]
  },
  {
   "cell_type": "markdown",
   "id": "8cd4823c-a5fd-451c-911b-434081ae5190",
   "metadata": {},
   "source": [
    "We define some **model hyperparameters** as well as some **training hyperparameters**"
   ]
  },
  {
   "cell_type": "code",
   "execution_count": 9,
   "id": "08426766-1700-48c7-b48a-8f9d12fab20c",
   "metadata": {
    "execution": {
     "iopub.execute_input": "2024-04-19T08:40:16.008213Z",
     "iopub.status.busy": "2024-04-19T08:40:16.006628Z",
     "iopub.status.idle": "2024-04-19T08:40:16.047198Z",
     "shell.execute_reply": "2024-04-19T08:40:16.045199Z",
     "shell.execute_reply.started": "2024-04-19T08:40:16.008150Z"
    }
   },
   "outputs": [],
   "source": [
    "# ready to define everything we need for training our Seq2Seq model\n",
    "device = torch.device(\"cuda\" if torch.cuda.is_available() else \"cpu\")\n",
    "\n",
    "load_model = True\n",
    "save_model = True\n",
    "\n",
    "# Model hyperparameters\n",
    "src_vocab_size = len(pli.vocab)\n",
    "trg_vocab_size = len(ktl.vocab)\n",
    "embedding_size = 512\n",
    "num_heads = 8\n",
    "num_encoder_layers = 6\n",
    "num_decoder_layers = 6\n",
    "dropout = 0.10\n",
    "max_len = 100\n",
    "forward_expansion = 4\n",
    "src_pad_idx = ktl.vocab.stoi[\"<pad>\"]\n",
    "\n",
    "global level\n",
    "# Training hyperparameters\n",
    "num_epochs = 150\n",
    "learning_rate = 3e-4\n",
    "batch_size = 32\n",
    "training_losses = []"
   ]
  },
  {
   "cell_type": "markdown",
   "id": "2cd83f2c-6d63-44b0-88bc-269aaa7e32f4",
   "metadata": {},
   "source": [
    "### Specifics"
   ]
  },
  {
   "cell_type": "markdown",
   "id": "43d5a25e-8d9e-41d8-b800-8c623f3e2c63",
   "metadata": {},
   "source": [
    "This **remove_eos** function removes all \"< eos >\" tokens and then concatenate the remaining tokens into a single string"
   ]
  },
  {
   "cell_type": "code",
   "execution_count": 10,
   "id": "470fdc5a-d58f-417d-a82a-b7a65842b098",
   "metadata": {
    "execution": {
     "iopub.execute_input": "2024-04-19T08:41:07.993674Z",
     "iopub.status.busy": "2024-04-19T08:41:07.993113Z",
     "iopub.status.idle": "2024-04-19T08:41:08.001901Z",
     "shell.execute_reply": "2024-04-19T08:41:07.999942Z",
     "shell.execute_reply.started": "2024-04-19T08:41:07.993633Z"
    }
   },
   "outputs": [],
   "source": [
    "def remove_eos(witheos):\n",
    "    noeos = []\n",
    "    for w in witheos:\n",
    "        if w != '<eos>':\n",
    "            noeos.append(w)\n",
    "    return \" \".join(noeos)"
   ]
  },
  {
   "cell_type": "markdown",
   "id": "a2f282dd-3afc-4d7c-b9db-6f558e81e77c",
   "metadata": {},
   "source": [
    "\n",
    "These functions, **save_checkpoint** and **load_checkpoint**, are essential for saving and loading the state of a model during training or inference."
   ]
  },
  {
   "cell_type": "code",
   "execution_count": 11,
   "id": "fc4e57c0-6e30-4d3a-adae-4c35d4a7045f",
   "metadata": {
    "execution": {
     "iopub.execute_input": "2024-04-19T08:41:10.721512Z",
     "iopub.status.busy": "2024-04-19T08:41:10.720528Z",
     "iopub.status.idle": "2024-04-19T08:41:10.728468Z",
     "shell.execute_reply": "2024-04-19T08:41:10.727033Z",
     "shell.execute_reply.started": "2024-04-19T08:41:10.721472Z"
    }
   },
   "outputs": [],
   "source": [
    "def save_checkpoint(state, filename=\"checkpoint.pth.tar\"):\n",
    "    print(\"=> Saving checkpoint\")\n",
    "    torch.save(state, filename)\n",
    "\n",
    "\n",
    "def load_checkpoint(checkpoint, model, optimizer):\n",
    "    print(\"=> Loading checkpoint\")\n",
    "    model.load_state_dict(checkpoint[\"state_dict\"])\n",
    "    optimizer.load_state_dict(checkpoint[\"optimizer\"])"
   ]
  },
  {
   "cell_type": "markdown",
   "id": "fe6674fb-ac75-40c0-a3ba-8214e868a38e",
   "metadata": {},
   "source": [
    "### Model Initialization and Training Setup"
   ]
  },
  {
   "cell_type": "markdown",
   "id": "4a3b6171-3c47-4603-9b68-a0ad39d8d14b",
   "metadata": {},
   "source": [
    "This section of code **initializes** the model, optimizer, scheduler, and criterion for training a Transformer model. It also creates **iterators** for the training and test datasets."
   ]
  },
  {
   "cell_type": "code",
   "execution_count": 12,
   "id": "685f48ba-4676-4cc7-9506-69b8de07f19d",
   "metadata": {
    "execution": {
     "iopub.execute_input": "2024-04-19T08:41:13.811174Z",
     "iopub.status.busy": "2024-04-19T08:41:13.809687Z",
     "iopub.status.idle": "2024-04-19T08:41:17.337150Z",
     "shell.execute_reply": "2024-04-19T08:41:17.336005Z",
     "shell.execute_reply.started": "2024-04-19T08:41:13.811121Z"
    }
   },
   "outputs": [
    {
     "name": "stderr",
     "output_type": "stream",
     "text": [
      "/usr/local/lib/python3.9/dist-packages/torchtext/data/iterator.py:48: UserWarning: BucketIterator class will be retired soon and moved to torchtext.legacy. Please see the most recent release notes for further information.\n",
      "  warnings.warn('{} class will be retired soon and moved to torchtext.legacy. Please see the most recent release notes for further information.'.format(self.__class__.__name__), UserWarning)\n"
     ]
    }
   ],
   "source": [
    "train_iterator, test_iterator = BucketIterator.splits(\n",
    "    (train, test),\n",
    "    batch_size=batch_size,\n",
    "    sort_within_batch=True,\n",
    "    sort_key=lambda x: len(x.p),\n",
    "    device=device,\n",
    ")\n",
    "model = Transformer(\n",
    "    embedding_size,\n",
    "    src_vocab_size,\n",
    "    trg_vocab_size,\n",
    "    src_pad_idx,\n",
    "    num_heads,\n",
    "    num_encoder_layers,\n",
    "    num_decoder_layers,\n",
    "    forward_expansion,\n",
    "    dropout,\n",
    "    max_len,\n",
    "    device,\n",
    ").to(device)\n",
    "\n",
    "optimizer = optim.Adam(model.parameters(), lr=learning_rate)\n",
    "\n",
    "scheduler = torch.optim.lr_scheduler.ReduceLROnPlateau(\n",
    "    optimizer, factor=0.1, patience=10, verbose=True\n",
    ")\n",
    "\n",
    "pad_idx = ktl.vocab.stoi[\"<pad>\"]\n",
    "criterion = nn.CrossEntropyLoss(ignore_index=pad_idx)"
   ]
  },
  {
   "cell_type": "markdown",
   "id": "b655be9a-b42d-49b4-a31d-cb3423b11219",
   "metadata": {},
   "source": [
    "### Training loop"
   ]
  },
  {
   "cell_type": "markdown",
   "id": "e7e1d111-ccfc-479f-ab39-efa30c3d2f53",
   "metadata": {},
   "source": [
    "Within the training loop, batches of data are fetched using the **training_iterator**. Input and target sequences are transferred to the appropriate device (CPU or GPU), and the model is then trained using **forward** and **backward** passes. **Gradient clipping** is applied to prevent exploding gradients, and the **optimizer** is used to update the model parameters based on the computed gradients"
   ]
  },
  {
   "cell_type": "code",
   "execution_count": 13,
   "id": "45a6cb24-b320-452a-ade5-509323d2b49c",
   "metadata": {
    "execution": {
     "iopub.execute_input": "2024-04-19T08:41:30.199057Z",
     "iopub.status.busy": "2024-04-19T08:41:30.198484Z",
     "iopub.status.idle": "2024-04-19T08:41:54.057166Z",
     "shell.execute_reply": "2024-04-19T08:41:54.055748Z",
     "shell.execute_reply.started": "2024-04-19T08:41:30.199012Z"
    }
   },
   "outputs": [
    {
     "name": "stdout",
     "output_type": "stream",
     "text": [
      "[Epoch 0 / 150]\n",
      "Translated example sentence:\n",
      " =   =   =   =   =   =   =   =   =   =   =   =   =   =   =   =   =   =   =   =   =   =   =   =   =   =   =   =   =   =   =   =   =   =   =   =   =   =   =   =   =   =   =   =   =   =   =   =  ()  = \n",
      " =   =   =   =   =   =   =   =   =   =   =   =   =   =   =   =   =   =   =   =   =   =   =   =   =   =   =   =   =   =   =   =   =   =   =   =   =   =   =   =   =   =   =   =  () ()  =   =  () ()\n",
      " =   =   =   =   =   =   =   =   =   =   =   =   =   =   =   =   =   =   =   =   =   =   =   =   =   =   =   =   =   =   =   =   =   =   =   =   =   =   =   =   =   =   =   =   =   =   =   =   =   = \n",
      "Training losses: []\n"
     ]
    },
    {
     "name": "stderr",
     "output_type": "stream",
     "text": [
      "/usr/local/lib/python3.9/dist-packages/torchtext/data/batch.py:23: UserWarning: Batch class will be retired soon and moved to torchtext.legacy. Please see the most recent release notes for further information.\n",
      "  warnings.warn('{} class will be retired soon and moved to torchtext.legacy. Please see the most recent release notes for further information.'.format(self.__class__.__name__), UserWarning)\n"
     ]
    },
    {
     "name": "stdout",
     "output_type": "stream",
     "text": [
      "[Epoch 50 / 150]\n",
      "Translated example sentence:\n",
      "fun main (args: Array<String>)\n",
      "{\n",
      "}\n",
      "Training losses: [3.03900408744812, 3.5117156505584717, 2.475987195968628, 2.36059832572937, 2.353461980819702, 2.183690309524536, 2.118349313735962, 2.051751136779785, 1.9116090536117554, 1.8605965375900269, 1.6769018173217773, 1.4919891357421875, 1.3849786520004272, 1.2825713157653809, 1.215252161026001, 1.1334697008132935, 1.0578176975250244, 1.003955364227295, 1.0048730373382568, 0.9836986660957336, 0.9256967902183533, 0.9067334532737732, 0.9179553389549255, 0.6984867453575134, 0.7126944065093994, 0.5230821967124939, 0.5553499460220337, 0.4493342638015747, 0.41742268204689026, 0.39268478751182556, 0.3619147837162018, 0.24868495762348175, 0.29486700892448425, 0.27095767855644226, 0.2998165488243103, 0.15032866597175598, 0.40996289253234863, 0.31103071570396423, 0.21379931271076202, 0.16632509231567383, 0.15008296072483063, 0.151494562625885, 0.09544721245765686, 0.11660987883806229, 0.11088404059410095, 0.08574989438056946, 0.12150172889232635, 0.1835593283176422, 0.08363062888383865, 0.15995721518993378]\n",
      "[Epoch 100 / 150]\n",
      "Translated example sentence:\n",
      "fun main (args: Array<String>)\n",
      "{\n",
      "}\n",
      "Training losses: [3.03900408744812, 3.5117156505584717, 2.475987195968628, 2.36059832572937, 2.353461980819702, 2.183690309524536, 2.118349313735962, 2.051751136779785, 1.9116090536117554, 1.8605965375900269, 1.6769018173217773, 1.4919891357421875, 1.3849786520004272, 1.2825713157653809, 1.215252161026001, 1.1334697008132935, 1.0578176975250244, 1.003955364227295, 1.0048730373382568, 0.9836986660957336, 0.9256967902183533, 0.9067334532737732, 0.9179553389549255, 0.6984867453575134, 0.7126944065093994, 0.5230821967124939, 0.5553499460220337, 0.4493342638015747, 0.41742268204689026, 0.39268478751182556, 0.3619147837162018, 0.24868495762348175, 0.29486700892448425, 0.27095767855644226, 0.2998165488243103, 0.15032866597175598, 0.40996289253234863, 0.31103071570396423, 0.21379931271076202, 0.16632509231567383, 0.15008296072483063, 0.151494562625885, 0.09544721245765686, 0.11660987883806229, 0.11088404059410095, 0.08574989438056946, 0.12150172889232635, 0.1835593283176422, 0.08363062888383865, 0.15995721518993378, 0.07657447457313538, 0.07883478701114655, 0.05410161241889, 0.059569284319877625, 0.05747136101126671, 0.055178478360176086, 0.06163172051310539, 0.18211160600185394, 0.044186998158693314, 0.09060002118349075, 0.0312795415520668, 0.040887072682380676, 0.04032420367002487, 0.02595498412847519, 0.022502075880765915, 0.016781218349933624, 0.04284923896193504, 0.03299266844987869, 0.017391951754689217, 0.016827110201120377, 0.0071195196360349655, 0.006780016701668501, 0.015090669505298138, 0.005477911327034235, 0.012144867330789566, 0.0071856239810585976, 0.006704383064061403, 0.012518038041889668, 0.005229679401963949, 0.014991001226007938, 0.00472731189802289, 0.004235709086060524, 0.006814136169850826, 0.007365284487605095, 0.007749674841761589, 0.00925141479820013, 0.008660963736474514, 0.0039575910195708275, 0.004514104221016169, 0.005180016625672579, 0.008148275315761566, 0.019870158284902573, 0.009970624931156635, 0.0036930253263562918, 0.01539760921150446, 0.016161615028977394, 0.044491883367300034, 0.04147474840283394, 0.02205916866660118, 0.01950119622051716]\n",
      "Epoch   105: reducing learning rate of group 0 to 3.0000e-05.\n",
      "Epoch   116: reducing learning rate of group 0 to 3.0000e-06.\n",
      "Epoch   143: reducing learning rate of group 0 to 3.0000e-07.\n",
      "[Epoch 150 / 150]\n",
      "fun main (args: Array<String>)\n",
      "{\n",
      "}\n",
      "Training losses: [3.03900408744812, 3.5117156505584717, 2.475987195968628, 2.36059832572937, 2.353461980819702, 2.183690309524536, 2.118349313735962, 2.051751136779785, 1.9116090536117554, 1.8605965375900269, 1.6769018173217773, 1.4919891357421875, 1.3849786520004272, 1.2825713157653809, 1.215252161026001, 1.1334697008132935, 1.0578176975250244, 1.003955364227295, 1.0048730373382568, 0.9836986660957336, 0.9256967902183533, 0.9067334532737732, 0.9179553389549255, 0.6984867453575134, 0.7126944065093994, 0.5230821967124939, 0.5553499460220337, 0.4493342638015747, 0.41742268204689026, 0.39268478751182556, 0.3619147837162018, 0.24868495762348175, 0.29486700892448425, 0.27095767855644226, 0.2998165488243103, 0.15032866597175598, 0.40996289253234863, 0.31103071570396423, 0.21379931271076202, 0.16632509231567383, 0.15008296072483063, 0.151494562625885, 0.09544721245765686, 0.11660987883806229, 0.11088404059410095, 0.08574989438056946, 0.12150172889232635, 0.1835593283176422, 0.08363062888383865, 0.15995721518993378, 0.07657447457313538, 0.07883478701114655, 0.05410161241889, 0.059569284319877625, 0.05747136101126671, 0.055178478360176086, 0.06163172051310539, 0.18211160600185394, 0.044186998158693314, 0.09060002118349075, 0.0312795415520668, 0.040887072682380676, 0.04032420367002487, 0.02595498412847519, 0.022502075880765915, 0.016781218349933624, 0.04284923896193504, 0.03299266844987869, 0.017391951754689217, 0.016827110201120377, 0.0071195196360349655, 0.006780016701668501, 0.015090669505298138, 0.005477911327034235, 0.012144867330789566, 0.0071856239810585976, 0.006704383064061403, 0.012518038041889668, 0.005229679401963949, 0.014991001226007938, 0.00472731189802289, 0.004235709086060524, 0.006814136169850826, 0.007365284487605095, 0.007749674841761589, 0.00925141479820013, 0.008660963736474514, 0.0039575910195708275, 0.004514104221016169, 0.005180016625672579, 0.008148275315761566, 0.019870158284902573, 0.009970624931156635, 0.0036930253263562918, 0.01539760921150446, 0.016161615028977394, 0.044491883367300034, 0.04147474840283394, 0.02205916866660118, 0.01950119622051716, 0.019956447184085846, 0.014550745487213135, 0.008082874119281769, 0.010400377213954926, 0.007176968734711409, 0.014994166791439056, 0.0174274705350399, 0.012745501473546028, 0.013204148970544338, 0.01765136606991291, 0.006691393908113241, 0.006946772802621126, 0.006211146246641874, 0.009818015620112419, 0.007145848590880632, 0.0037719460669904947, 0.005257446318864822, 0.007647657301276922, 0.005555176641792059, 0.021041885018348694, 0.009133239276707172, 0.0045612710528075695, 0.0045307110995054245, 0.0036724817473441362, 0.0041858660988509655, 0.004711038898676634, 0.018870564177632332, 0.004062685649842024, 0.0042187548242509365, 0.003377450630068779, 0.0035181676503270864, 0.0032100395765155554, 0.004317322745919228, 0.005433074664324522, 0.00567368371412158, 0.004202148877084255, 0.0035691538359969854, 0.004293437581509352, 0.0032657277770340443, 0.004872566554695368, 0.004064012318849564, 0.0042801727540791035, 0.00404514791443944, 0.004652405623346567, 0.003803129540756345, 0.0037440736778080463, 0.0032299519516527653, 0.004652095027267933, 0.003785504261031747, 0.003832436166703701]\n"
     ]
    },
    {
     "data": {
      "image/png": "[encoded data removed]",
      "text/plain": [
       "<Figure size 640x480 with 1 Axes>"
      ]
     },
     "metadata": {},
     "output_type": "display_data"
    },
    {
     "name": "stdout",
     "output_type": "stream",
     "text": [
      "=> Saving checkpoint\n"
     ]
    }
   ],
   "source": [
    "if __name__ == '__main__':\n",
    "    for epoch in range(num_epochs):\n",
    "        model.eval()\n",
    "        # little bit of output to check the progress\n",
    "        if epoch % 50 == 0:\n",
    "            print(f\"[Epoch {epoch} / {num_epochs}]\")\n",
    "            # Iterate over the dataset and extract PLI sequences\n",
    "            sentences = [\n",
    "                    {'pli': ['PROCEDURE', 'MAIN', '{{type0}}', '{{type1}}'],\n",
    "                     'context': {'type0': 'Array', 'type1': 'String'}},\n",
    "                    {'pli': ['DO'], 'context': {}},\n",
    "                    {'pli': ['END'], 'context': {}}\n",
    "                ]\n",
    "            print(f\"Translated example sentence:\")\n",
    "            level = 0\n",
    "            for s in sentences:\n",
    "                translated = translate_sequence(\n",
    "                    s['pli'], pli, ktl, device, max_length=50\n",
    "                )\n",
    "                transpiled, level = transpile_sequence({\n",
    "                    'code': translated,\n",
    "                    'context': s['context']\n",
    "                }, level)\n",
    "                print(f\"{transpiled}\")\n",
    "            print(\"Training losses:\", training_losses)\n",
    "        model.train()\n",
    "        losses = []\n",
    "        for batch_idx, batch in enumerate(train_iterator):\n",
    "            # Get input and targets and get to cuda\n",
    "            inp_data = batch.p.to(device)\n",
    "            target = batch.k.to(device)\n",
    "            # Forward\n",
    "            output = model(inp_data, target[:-1, :])\n",
    "            output = output.reshape(-1, output.shape[2])\n",
    "            target = target[1:].reshape(-1)\n",
    "            optimizer.zero_grad()\n",
    "            loss = criterion(output, target)\n",
    "            losses.append(loss.item())\n",
    "            # Back prop\n",
    "            loss.backward()\n",
    "            # Clip to avoid exploding gradient issues, makes sure grads are\n",
    "            # within a healthy range\n",
    "            torch.nn.utils.clip_grad_norm_(model.parameters(), max_norm=1)\n",
    "            # Gradient descent step\n",
    "            optimizer.step()\n",
    "            \n",
    "            training_losses.append(loss.item())\n",
    "        mean_loss = sum(losses) / len(losses)\n",
    "        scheduler.step(mean_loss)\n",
    "     # Print the final epoch\n",
    "    print(f\"[Epoch {num_epochs} / {num_epochs}]\")\n",
    "    # Iterate over the dataset and extract PLI sequences\n",
    "    for s in sentences:\n",
    "        translated = translate_sequence(\n",
    "            s['pli'], pli, ktl, device, max_length=50\n",
    "        )\n",
    "        transpiled, level = transpile_sequence({\n",
    "            'code': translated,\n",
    "            'context': s['context']\n",
    "        }, level)\n",
    "        print(f\"{transpiled}\")\n",
    "        # Translate and transpile here if needed\n",
    "    print(\"Training losses:\", training_losses)\n",
    "    \n",
    "    plt.plot(training_losses, label='Training Loss')\n",
    "    plt.xlabel('Iterations')\n",
    "    plt.ylabel('training_losses')\n",
    "    plt.title('Training Loss Over Iterations')\n",
    "    plt.legend()\n",
    "    plt.show()\n",
    "if save_model:\n",
    "    checkpoint = {\n",
    "        \"state_dict\": model.state_dict(),\n",
    "        \"optimizer\": optimizer.state_dict(),\n",
    "    }\n",
    "    save_checkpoint(checkpoint)"
   ]
  },
  {
   "cell_type": "markdown",
   "id": "2138879f-8b33-41bc-898a-9e3611f82c08",
   "metadata": {},
   "source": [
    "### Running the model "
   ]
  },
  {
   "cell_type": "code",
   "execution_count": 14,
   "id": "7520bf5d-6902-41ee-bb85-956ca92b52b3",
   "metadata": {
    "execution": {
     "iopub.execute_input": "2024-04-19T08:42:55.492284Z",
     "iopub.status.busy": "2024-04-19T08:42:55.491207Z",
     "iopub.status.idle": "2024-04-19T08:42:57.703360Z",
     "shell.execute_reply": "2024-04-19T08:42:57.702000Z",
     "shell.execute_reply.started": "2024-04-19T08:42:55.492235Z"
    }
   },
   "outputs": [
    {
     "name": "stdout",
     "output_type": "stream",
     "text": [
      "=> Loading checkpoint\n",
      "fun main (args: Array<String>)\n",
      "{\n",
      "    var     n : Int\n",
      "    var     result : Int\n",
      "    n = 5\n",
      "    result = compute_factorial(n)\n",
      "}\n",
      "fun compute_factorial(n : Int) : Int\n",
      "{\n",
      "    if(n<=1)\n",
      "    {\n",
      "        return 1\n",
      "    }\n",
      "    return n*compute_factorial(n-1)\n",
      "}\n",
      "\n"
     ]
    }
   ],
   "source": [
    "def run_model(filename):\n",
    "    load_checkpoint(torch.load(\"checkpoint.pth.tar\"), model, optimizer)\n",
    "    # Lexer setup\n",
    "    input_stream = FileStream(filename)\n",
    "    lexer = PLILexer(input_stream)\n",
    "    stream = CommonTokenStream(lexer)\n",
    "\n",
    "    # Parser setup\n",
    "    parser = PLIParser(stream)\n",
    "    tree = parser.program()\n",
    "\n",
    "    # Dataset generation\n",
    "    visitor = PLIVisitor()\n",
    "    statements = visitor.visit(tree)\n",
    "\n",
    "    # Accumulate transpiled sequences\n",
    "    transpiled_code = \"\"\n",
    "    level = 0\n",
    "    for s in statements:\n",
    "        translated = translate_sequence(\n",
    "            s[\"pli\"], pli, ktl, device, max_length=50\n",
    "        )\n",
    "        transpiled, level = transpile_sequence({\n",
    "            'code': translated,\n",
    "            'context': s['context']\n",
    "        }, level)\n",
    "        transpiled_code += transpiled+ \"\\n\"\n",
    "\n",
    "    # Print the entire block of transpiled code\n",
    "    print(f\"{transpiled_code}\")\n",
    "\n",
    "# Example usage:\n",
    "filename = \"FIB.PLI\"  # Replace with the actual filename\n",
    "run_model(filename)"
   ]
  },
  {
   "cell_type": "code",
   "execution_count": null,
   "id": "46f64de2-ec05-49cb-bf5e-b9dc0de96d7a",
   "metadata": {},
   "outputs": [],
   "source": []
  }
 ],
 "metadata": {
  "kernelspec": {
   "display_name": "Python 3 (ipykernel)",
   "language": "python",
   "name": "python3"
  },
  "language_info": {
   "codemirror_mode": {
    "name": "ipython",
    "version": 3
   },
   "file_extension": ".py",
   "mimetype": "text/x-python",
   "name": "python",
   "nbconvert_exporter": "python",
   "pygments_lexer": "ipython3",
   "version": "3.9.16"
  }
 },
 "nbformat": 4,
 "nbformat_minor": 5
}
