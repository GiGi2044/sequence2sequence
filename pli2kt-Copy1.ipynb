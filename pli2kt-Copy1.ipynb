{
 "cells": [
  {
   "cell_type": "markdown",
   "id": "2f1da560-8eed-4a96-a97c-7aecc57bff6e",
   "metadata": {},
   "source": [
    "## Introduction"
   ]
  },
  {
   "cell_type": "markdown",
   "id": "5f43e528-92db-41c9-b8b0-8f8f9092214b",
   "metadata": {},
   "source": [
    "This notebook presents an implementation of a **sequence-to-sequence** (Seq2Seq) model using PyTorch. The model, built from scratch, leverages the **Transformer** architecture, a state-of-the-art model for sequence transduction tasks."
   ]
  },
  {
   "cell_type": "markdown",
   "id": "d6692af6-f6dc-486a-b369-7918d54a74cf",
   "metadata": {},
   "source": [
    "## Installing libraries"
   ]
  },
  {
   "cell_type": "markdown",
   "id": "312b3233-744a-4e32-8b62-6d1010689fd9",
   "metadata": {},
   "source": [
    "We begin with the installation of essential libraries. We'll be relying on the robust capabilities of **PyTorch**, **TorchText**, and **ANTLR4** to bring our transpiler to life."
   ]
  },
  {
   "cell_type": "code",
   "execution_count": 2,
   "id": "5c39b85a-ad6e-461a-9220-4c96dcca837a",
   "metadata": {},
   "outputs": [
    {
     "name": "stdout",
     "output_type": "stream",
     "text": [
      "Requirement already satisfied: torch in /home/ubuntu/.pyenv/versions/3.10.14/lib/python3.10/site-packages (2.3.0)\n",
      "Requirement already satisfied: typing-extensions>=4.8.0 in /home/ubuntu/.pyenv/versions/3.10.14/lib/python3.10/site-packages (from torch) (4.11.0)\n",
      "Requirement already satisfied: nvidia-cusparse-cu12==12.1.0.106 in /home/ubuntu/.pyenv/versions/3.10.14/lib/python3.10/site-packages (from torch) (12.1.0.106)\n",
      "Requirement already satisfied: jinja2 in /home/ubuntu/.pyenv/versions/3.10.14/lib/python3.10/site-packages (from torch) (3.1.3)\n",
      "Requirement already satisfied: sympy in /home/ubuntu/.pyenv/versions/3.10.14/lib/python3.10/site-packages (from torch) (1.12)\n",
      "Requirement already satisfied: networkx in /home/ubuntu/.pyenv/versions/3.10.14/lib/python3.10/site-packages (from torch) (3.3)\n",
      "Requirement already satisfied: nvidia-cufft-cu12==11.0.2.54 in /home/ubuntu/.pyenv/versions/3.10.14/lib/python3.10/site-packages (from torch) (11.0.2.54)\n",
      "Requirement already satisfied: fsspec in /home/ubuntu/.pyenv/versions/3.10.14/lib/python3.10/site-packages (from torch) (2024.3.1)\n",
      "Requirement already satisfied: nvidia-curand-cu12==10.3.2.106 in /home/ubuntu/.pyenv/versions/3.10.14/lib/python3.10/site-packages (from torch) (10.3.2.106)\n",
      "Requirement already satisfied: nvidia-cusolver-cu12==11.4.5.107 in /home/ubuntu/.pyenv/versions/3.10.14/lib/python3.10/site-packages (from torch) (11.4.5.107)\n",
      "Requirement already satisfied: filelock in /home/ubuntu/.pyenv/versions/3.10.14/lib/python3.10/site-packages (from torch) (3.14.0)\n",
      "Requirement already satisfied: nvidia-nvtx-cu12==12.1.105 in /home/ubuntu/.pyenv/versions/3.10.14/lib/python3.10/site-packages (from torch) (12.1.105)\n",
      "Requirement already satisfied: triton==2.3.0 in /home/ubuntu/.pyenv/versions/3.10.14/lib/python3.10/site-packages (from torch) (2.3.0)\n",
      "Requirement already satisfied: nvidia-cudnn-cu12==8.9.2.26 in /home/ubuntu/.pyenv/versions/3.10.14/lib/python3.10/site-packages (from torch) (8.9.2.26)\n",
      "Requirement already satisfied: nvidia-cuda-runtime-cu12==12.1.105 in /home/ubuntu/.pyenv/versions/3.10.14/lib/python3.10/site-packages (from torch) (12.1.105)\n",
      "Requirement already satisfied: nvidia-cuda-nvrtc-cu12==12.1.105 in /home/ubuntu/.pyenv/versions/3.10.14/lib/python3.10/site-packages (from torch) (12.1.105)\n",
      "Requirement already satisfied: nvidia-nccl-cu12==2.20.5 in /home/ubuntu/.pyenv/versions/3.10.14/lib/python3.10/site-packages (from torch) (2.20.5)\n",
      "Requirement already satisfied: nvidia-cuda-cupti-cu12==12.1.105 in /home/ubuntu/.pyenv/versions/3.10.14/lib/python3.10/site-packages (from torch) (12.1.105)\n",
      "Requirement already satisfied: nvidia-cublas-cu12==12.1.3.1 in /home/ubuntu/.pyenv/versions/3.10.14/lib/python3.10/site-packages (from torch) (12.1.3.1)\n",
      "Requirement already satisfied: nvidia-nvjitlink-cu12 in /home/ubuntu/.pyenv/versions/3.10.14/lib/python3.10/site-packages (from nvidia-cusolver-cu12==11.4.5.107->torch) (12.4.127)\n",
      "Requirement already satisfied: MarkupSafe>=2.0 in /home/ubuntu/.pyenv/versions/3.10.14/lib/python3.10/site-packages (from jinja2->torch) (2.1.5)\n",
      "Requirement already satisfied: mpmath>=0.19 in /home/ubuntu/.pyenv/versions/3.10.14/lib/python3.10/site-packages (from sympy->torch) (1.3.0)\n",
      "\n",
      "\u001b[1m[\u001b[0m\u001b[34;49mnotice\u001b[0m\u001b[1;39;49m]\u001b[0m\u001b[39;49m A new release of pip is available: \u001b[0m\u001b[31;49m23.0.1\u001b[0m\u001b[39;49m -> \u001b[0m\u001b[32;49m24.0\u001b[0m\n",
      "\u001b[1m[\u001b[0m\u001b[34;49mnotice\u001b[0m\u001b[1;39;49m]\u001b[0m\u001b[39;49m To update, run: \u001b[0m\u001b[32;49mpip install --upgrade pip\u001b[0m\n",
      "Requirement already satisfied: torchtext==0.18.0 in /home/ubuntu/.pyenv/versions/3.10.14/lib/python3.10/site-packages (0.18.0)\n",
      "Requirement already satisfied: requests in /home/ubuntu/.pyenv/versions/3.10.14/lib/python3.10/site-packages (from torchtext==0.18.0) (2.31.0)\n",
      "Requirement already satisfied: torch>=2.3.0 in /home/ubuntu/.pyenv/versions/3.10.14/lib/python3.10/site-packages (from torchtext==0.18.0) (2.3.0)\n",
      "Requirement already satisfied: numpy in /home/ubuntu/.pyenv/versions/3.10.14/lib/python3.10/site-packages (from torchtext==0.18.0) (1.26.4)\n",
      "Requirement already satisfied: tqdm in /home/ubuntu/.pyenv/versions/3.10.14/lib/python3.10/site-packages (from torchtext==0.18.0) (4.66.4)\n",
      "Requirement already satisfied: nvidia-cusparse-cu12==12.1.0.106 in /home/ubuntu/.pyenv/versions/3.10.14/lib/python3.10/site-packages (from torch>=2.3.0->torchtext==0.18.0) (12.1.0.106)\n",
      "Requirement already satisfied: jinja2 in /home/ubuntu/.pyenv/versions/3.10.14/lib/python3.10/site-packages (from torch>=2.3.0->torchtext==0.18.0) (3.1.3)\n",
      "Requirement already satisfied: sympy in /home/ubuntu/.pyenv/versions/3.10.14/lib/python3.10/site-packages (from torch>=2.3.0->torchtext==0.18.0) (1.12)\n",
      "Requirement already satisfied: nvidia-cuda-nvrtc-cu12==12.1.105 in /home/ubuntu/.pyenv/versions/3.10.14/lib/python3.10/site-packages (from torch>=2.3.0->torchtext==0.18.0) (12.1.105)\n",
      "Requirement already satisfied: nvidia-cufft-cu12==11.0.2.54 in /home/ubuntu/.pyenv/versions/3.10.14/lib/python3.10/site-packages (from torch>=2.3.0->torchtext==0.18.0) (11.0.2.54)\n",
      "Requirement already satisfied: typing-extensions>=4.8.0 in /home/ubuntu/.pyenv/versions/3.10.14/lib/python3.10/site-packages (from torch>=2.3.0->torchtext==0.18.0) (4.11.0)\n",
      "Requirement already satisfied: triton==2.3.0 in /home/ubuntu/.pyenv/versions/3.10.14/lib/python3.10/site-packages (from torch>=2.3.0->torchtext==0.18.0) (2.3.0)\n",
      "Requirement already satisfied: filelock in /home/ubuntu/.pyenv/versions/3.10.14/lib/python3.10/site-packages (from torch>=2.3.0->torchtext==0.18.0) (3.14.0)\n",
      "Requirement already satisfied: nvidia-cudnn-cu12==8.9.2.26 in /home/ubuntu/.pyenv/versions/3.10.14/lib/python3.10/site-packages (from torch>=2.3.0->torchtext==0.18.0) (8.9.2.26)\n",
      "Requirement already satisfied: nvidia-nccl-cu12==2.20.5 in /home/ubuntu/.pyenv/versions/3.10.14/lib/python3.10/site-packages (from torch>=2.3.0->torchtext==0.18.0) (2.20.5)\n",
      "Requirement already satisfied: nvidia-cuda-runtime-cu12==12.1.105 in /home/ubuntu/.pyenv/versions/3.10.14/lib/python3.10/site-packages (from torch>=2.3.0->torchtext==0.18.0) (12.1.105)\n",
      "Requirement already satisfied: nvidia-cublas-cu12==12.1.3.1 in /home/ubuntu/.pyenv/versions/3.10.14/lib/python3.10/site-packages (from torch>=2.3.0->torchtext==0.18.0) (12.1.3.1)\n",
      "Requirement already satisfied: nvidia-curand-cu12==10.3.2.106 in /home/ubuntu/.pyenv/versions/3.10.14/lib/python3.10/site-packages (from torch>=2.3.0->torchtext==0.18.0) (10.3.2.106)\n",
      "Requirement already satisfied: nvidia-cuda-cupti-cu12==12.1.105 in /home/ubuntu/.pyenv/versions/3.10.14/lib/python3.10/site-packages (from torch>=2.3.0->torchtext==0.18.0) (12.1.105)\n",
      "Requirement already satisfied: fsspec in /home/ubuntu/.pyenv/versions/3.10.14/lib/python3.10/site-packages (from torch>=2.3.0->torchtext==0.18.0) (2024.3.1)\n",
      "Requirement already satisfied: networkx in /home/ubuntu/.pyenv/versions/3.10.14/lib/python3.10/site-packages (from torch>=2.3.0->torchtext==0.18.0) (3.3)\n",
      "Requirement already satisfied: nvidia-cusolver-cu12==11.4.5.107 in /home/ubuntu/.pyenv/versions/3.10.14/lib/python3.10/site-packages (from torch>=2.3.0->torchtext==0.18.0) (11.4.5.107)\n",
      "Requirement already satisfied: nvidia-nvtx-cu12==12.1.105 in /home/ubuntu/.pyenv/versions/3.10.14/lib/python3.10/site-packages (from torch>=2.3.0->torchtext==0.18.0) (12.1.105)\n",
      "Requirement already satisfied: nvidia-nvjitlink-cu12 in /home/ubuntu/.pyenv/versions/3.10.14/lib/python3.10/site-packages (from nvidia-cusolver-cu12==11.4.5.107->torch>=2.3.0->torchtext==0.18.0) (12.4.127)\n",
      "Requirement already satisfied: idna<4,>=2.5 in /home/ubuntu/.pyenv/versions/3.10.14/lib/python3.10/site-packages (from requests->torchtext==0.18.0) (3.7)\n",
      "Requirement already satisfied: charset-normalizer<4,>=2 in /home/ubuntu/.pyenv/versions/3.10.14/lib/python3.10/site-packages (from requests->torchtext==0.18.0) (3.3.2)\n",
      "Requirement already satisfied: certifi>=2017.4.17 in /home/ubuntu/.pyenv/versions/3.10.14/lib/python3.10/site-packages (from requests->torchtext==0.18.0) (2024.2.2)\n",
      "Requirement already satisfied: urllib3<3,>=1.21.1 in /home/ubuntu/.pyenv/versions/3.10.14/lib/python3.10/site-packages (from requests->torchtext==0.18.0) (2.2.1)\n",
      "Requirement already satisfied: MarkupSafe>=2.0 in /home/ubuntu/.pyenv/versions/3.10.14/lib/python3.10/site-packages (from jinja2->torch>=2.3.0->torchtext==0.18.0) (2.1.5)\n",
      "Requirement already satisfied: mpmath>=0.19 in /home/ubuntu/.pyenv/versions/3.10.14/lib/python3.10/site-packages (from sympy->torch>=2.3.0->torchtext==0.18.0) (1.3.0)\n",
      "\n",
      "\u001b[1m[\u001b[0m\u001b[34;49mnotice\u001b[0m\u001b[1;39;49m]\u001b[0m\u001b[39;49m A new release of pip is available: \u001b[0m\u001b[31;49m23.0.1\u001b[0m\u001b[39;49m -> \u001b[0m\u001b[32;49m24.0\u001b[0m\n",
      "\u001b[1m[\u001b[0m\u001b[34;49mnotice\u001b[0m\u001b[1;39;49m]\u001b[0m\u001b[39;49m To update, run: \u001b[0m\u001b[32;49mpip install --upgrade pip\u001b[0m\n",
      "Requirement already satisfied: antlr4-python3-runtime==4.9.2 in /home/ubuntu/.pyenv/versions/3.10.14/lib/python3.10/site-packages (4.9.2)\n",
      "\n",
      "\u001b[1m[\u001b[0m\u001b[34;49mnotice\u001b[0m\u001b[1;39;49m]\u001b[0m\u001b[39;49m A new release of pip is available: \u001b[0m\u001b[31;49m23.0.1\u001b[0m\u001b[39;49m -> \u001b[0m\u001b[32;49m24.0\u001b[0m\n",
      "\u001b[1m[\u001b[0m\u001b[34;49mnotice\u001b[0m\u001b[1;39;49m]\u001b[0m\u001b[39;49m To update, run: \u001b[0m\u001b[32;49mpip install --upgrade pip\u001b[0m\n"
     ]
    }
   ],
   "source": [
    "!pip install torch \n",
    "!pip install torchtext==0.18.0\n",
    "!pip install antlr4-python3-runtime==4.9.2"
   ]
  },
  {
   "cell_type": "markdown",
   "id": "3c7ab93a-68f0-429a-85e8-8f68a11eb997",
   "metadata": {},
   "source": [
    "## Importing libraries"
   ]
  },
  {
   "cell_type": "markdown",
   "id": "3aa76569-0e4e-4ede-b67f-ee5a3b2408b5",
   "metadata": {},
   "source": [
    "We then import all the necessary libraries. **json** will be used to import our data, **antlr4** provides the backbone for our transpiler, enabling us to parse PL/I code and manipulate its structure with ease, **torch** PyTorch empowers us to build and train neural networks seamlessly, **torchtext** complements PyTorch by providing utilities for text processing and dataset handling, **jinja2** simplifies code generation with its template engine ensuring a smooth transition between languages and to finish **matplotlib** will come in handy during training for visualising our progress  "
   ]
  },
  {
   "cell_type": "code",
   "execution_count": 3,
   "id": "1fa9b17b-24bf-4cb8-860c-fb1ed8bb988a",
   "metadata": {},
   "outputs": [],
   "source": [
    "import torchtext; torchtext.disable_torchtext_deprecation_warning()\n",
    "import torch\n",
    "import torch.nn as nn\n",
    "import torch.optim as optim\n",
    "from torch.utils.data import DataLoader\n",
    "from torch.nn.utils.rnn import pad_sequence\n",
    "from torchtext.vocab import build_vocab_from_iterator\n",
    "from torchtext.data.utils import get_tokenizer\n",
    "from torchtext.transforms import ToTensor\n",
    "import json\n",
    "from antlr4 import *\n",
    "from pli.PLILexer import PLILexer\n",
    "from pli.PLIParser import PLIParser\n",
    "from pli.PLIVisitor import PLIVisitor\n",
    "from jinja2 import Template\n",
    "import matplotlib.pyplot as plt"
   ]
  },
  {
   "cell_type": "markdown",
   "id": "3c450d3e-f442-45f2-bfe1-d3512e6b61ec",
   "metadata": {},
   "source": [
    "## The model"
   ]
  },
  {
   "cell_type": "markdown",
   "id": "0d1871b9-794a-4243-813f-dc90d1576328",
   "metadata": {},
   "source": [
    "The Transformer class encapsulates a custom implementation of the Transformer model, a powerful architecture for **sequence-to-sequence** tasks. It comprises various components, including **embedding layers** for source and target sequences, **positional embeddings** to capture sequence order, and a multi-layer Transformer module. The model utilizes **dropout** for regularization and employs **masks** to handle padding and prevent information leakage during training. With these components, the Transformer class can efficiently process source and target sequences, facilitating tasks like language translation or code generation"
   ]
  },
  {
   "cell_type": "code",
   "execution_count": 4,
   "id": "83a751df-600d-4f8a-addf-a8e9ddda6cbe",
   "metadata": {},
   "outputs": [],
   "source": [
    "class Transformer(nn.Module):\n",
    "\n",
    "    # Initialises the Transformer model\n",
    "    def __init__(\n",
    "            self,\n",
    "            embedding_size,\n",
    "            src_vocab_size,\n",
    "            trg_vocab_size,\n",
    "            src_pad_idx,\n",
    "            num_heads,\n",
    "            num_encoder_layers,\n",
    "            num_decoder_layers,\n",
    "            forward_expansion,\n",
    "            dropout,\n",
    "            max_len,\n",
    "            device,\n",
    "    ):\n",
    "        super(Transformer, self).__init__()\n",
    "        self.src_word_embedding = nn.Embedding(src_vocab_size, embedding_size)\n",
    "        self.src_position_embedding = nn.Embedding(max_len, embedding_size)\n",
    "        self.trg_word_embedding = nn.Embedding(trg_vocab_size, embedding_size)\n",
    "        self.trg_position_embedding = nn.Embedding(max_len, embedding_size)\n",
    "\n",
    "        self.device = device\n",
    "        self.transformer = nn.Transformer(\n",
    "            embedding_size,\n",
    "            num_heads,\n",
    "            num_encoder_layers,\n",
    "            num_decoder_layers,\n",
    "            forward_expansion,\n",
    "            dropout,\n",
    "        )\n",
    "        self.fc_out = nn.Linear(embedding_size, trg_vocab_size)\n",
    "        self.dropout = nn.Dropout(dropout)\n",
    "        self.src_pad_idx = src_pad_idx\n",
    "\n",
    "    # Generates a mask for the source sequence to handle padding\n",
    "    def make_src_mask(self, src):\n",
    "        src_mask = src.transpose(0, 1) == self.src_pad_idx\n",
    "\n",
    "        # (N, src_len)\n",
    "        return src_mask.to(self.device)\n",
    "\n",
    "    # Forward pass of the Transformer model\n",
    "    def forward(self, src, trg):\n",
    "        src_seq_length, N = src.shape\n",
    "        trg_seq_length, N = trg.shape\n",
    "\n",
    "        src_positions = (\n",
    "            torch.arange(0, src_seq_length)\n",
    "                .unsqueeze(1)\n",
    "                .expand(src_seq_length, N)\n",
    "                .to(self.device)\n",
    "        )\n",
    "\n",
    "        trg_positions = (\n",
    "            torch.arange(0, trg_seq_length)\n",
    "                .unsqueeze(1)\n",
    "                .expand(trg_seq_length, N)\n",
    "                .to(self.device)\n",
    "        )\n",
    "\n",
    "        embed_src = self.dropout(\n",
    "            (self.src_word_embedding(src) + self.src_position_embedding(src_positions))\n",
    "        )\n",
    "        embed_trg = self.dropout(\n",
    "            (self.trg_word_embedding(trg) + self.trg_position_embedding(trg_positions))\n",
    "        )\n",
    "\n",
    "        src_padding_mask = self.make_src_mask(src)\n",
    "        trg_mask = self.transformer.generate_square_subsequent_mask(trg_seq_length).to(\n",
    "            self.device\n",
    "        )\n",
    "\n",
    "        out = self.transformer(\n",
    "            embed_src,\n",
    "            embed_trg,\n",
    "            src_key_padding_mask=src_padding_mask,\n",
    "            tgt_mask=trg_mask,\n",
    "        )\n",
    "        out = self.fc_out(out)\n",
    "        return out"
   ]
  },
  {
   "cell_type": "markdown",
   "id": "2f95555c-514a-4ba7-a729-e7c5c88edb11",
   "metadata": {},
   "source": [
    "## EDA"
   ]
  },
  {
   "cell_type": "markdown",
   "id": "8f0ea9c3-0261-427e-99a3-2b293a694685",
   "metadata": {},
   "source": [
    "### Tokenize"
   ]
  },
  {
   "cell_type": "markdown",
   "id": "f87b8c6d-5dfb-4b20-a80b-95309cf8a8dc",
   "metadata": {},
   "source": [
    "We define a simple **tokenizer** that splits a string into tokens based on whitespace, it then creates two **Field** objects with some specifications and finally we create a dictionary that maps field names to tuples to be used later to specify how to load and process the data "
   ]
  },
  {
   "cell_type": "code",
   "execution_count": 42,
   "id": "6c127116-54cb-4570-84cc-73ebb591f2a8",
   "metadata": {},
   "outputs": [],
   "source": [
    "tokenizer = lambda x: x.split()\n",
    "\n",
    "def yield_tokens(data_iter, text_field):\n",
    "    for item in data_iter:\n",
    "        yield tokenizer(item['translation'][text_field])"
   ]
  },
  {
   "cell_type": "markdown",
   "id": "1161956e-fb38-484e-a7ea-1ce7e074183d",
   "metadata": {},
   "source": [
    "### Splits"
   ]
  },
  {
   "cell_type": "markdown",
   "id": "78bb0945-e0d9-4a1d-be24-969287dc3c59",
   "metadata": {},
   "source": [
    "We're using the TabularDataset module from the torchtext.data package to create separate datasets for **training** and **testing**. The data is loaded from JSON files located in the 'data' directory. We specify the format of the data as JSON and define the fields to be extracted from the JSON files using the fields parameter"
   ]
  },
  {
   "cell_type": "markdown",
   "id": "ed0c78c8-e6e8-4176-94a6-c64c7e578db6",
   "metadata": {
    "execution": {
     "iopub.execute_input": "2024-04-17T09:30:39.739005Z",
     "iopub.status.busy": "2024-04-17T09:30:39.738420Z",
     "iopub.status.idle": "2024-04-17T09:30:39.745689Z",
     "shell.execute_reply": "2024-04-17T09:30:39.744054Z",
     "shell.execute_reply.started": "2024-04-17T09:30:39.738961Z"
    }
   },
   "source": [
    "### Vocab"
   ]
  },
  {
   "cell_type": "markdown",
   "id": "10b84fb3-181b-486f-9de3-7f1bb362f716",
   "metadata": {},
   "source": [
    "Building a vocabulary involves creating a dictionary that maps each unique word in the dataset to a unique index. This process is crucial for natural language processing tasks as it allows machine learning models to represent words as numerical values, which they can process and understand. In this case, we're building vocabularies for the PL/I (pli) and Kotlin (ktl) datasets, ensuring that the model has a predefined set of words it can understand and process during training and inference."
   ]
  },
  {
   "cell_type": "code",
   "execution_count": 24,
   "id": "c7e493b0-806b-4216-a4e6-2c94932c8bb1",
   "metadata": {},
   "outputs": [],
   "source": [
    "def setup_vocab(data_file, text_field):\n",
    "    with open(data_file, 'r') as f:\n",
    "        data = json.load(f)\n",
    "    vocab = build_vocab_from_iterator(yield_tokens(data['data'], text_field), specials=[\"<sos>\", \"<eos>\", \"<pad>\", \"<unk>\"])\n",
    "    vocab.set_default_index(vocab[\"<unk>\"])\n",
    "    return vocab\n",
    "    \n",
    "pli_vocab = setup_vocab('data/train1.json', 'pli')\n",
    "ktl_vocab = setup_vocab('data/train1.json', 'ktl')"
   ]
  },
  {
   "cell_type": "code",
   "execution_count": 25,
   "id": "b9c54cdf-4a51-49ab-8530-c97412a82924",
   "metadata": {},
   "outputs": [],
   "source": [
    "def data_process(raw_text_iter, src_vocab, trg_vocab):\n",
    "    data = []\n",
    "    for item in raw_text_iter['data']:\n",
    "        src_tensor = torch.tensor([src_vocab[token] for token in tokenizer(item['translation']['pli'])], dtype=torch.long)\n",
    "        trg_tensor = torch.tensor([trg_vocab[token] for token in tokenizer(item['translation']['ktl'])], dtype=torch.long)\n",
    "        data.append((src_tensor, trg_tensor))\n",
    "    return data"
   ]
  },
  {
   "cell_type": "code",
   "execution_count": 26,
   "id": "aef8ac7c-9118-4374-a434-77a1334cc6a3",
   "metadata": {},
   "outputs": [],
   "source": [
    "pli_vocab = setup_vocab('data/train1.json', 'pli')\n",
    "ktl_vocab = setup_vocab('data/train1.json', 'ktl')"
   ]
  },
  {
   "cell_type": "code",
   "execution_count": 44,
   "id": "2983e39e-3eab-42e3-bdf3-3b74d0dcfd8c",
   "metadata": {},
   "outputs": [],
   "source": [
    "def collate_batch(batch):\n",
    "    label_list, text_list, lengths = [], [], []\n",
    "    for (_text, _label) in batch:\n",
    "         # Assuming _text is already tensorized\n",
    "         lengths.append(len(_text))\n",
    "         label_list.append(torch.tensor(_label))\n",
    "         text_list.append(_text)\n",
    "    text_list = pad_sequence(text_list, batch_first=True, padding_value=0)  # pad_value depends on your settings\n",
    "    label_list = torch.tensor(label_list)\n",
    "    lengths = torch.tensor(lengths)\n",
    "\n",
    "    return text_list, label_list, lengths"
   ]
  },
  {
   "cell_type": "code",
   "execution_count": 45,
   "id": "8c0c0d08-5652-4f08-9901-fe3a27853eb5",
   "metadata": {},
   "outputs": [],
   "source": [
    "with open('data/train1.json', 'r') as f:\n",
    "    raw_train_data = json.load(f)\n",
    "train_data = data_process(raw_train_data, pli_vocab, ktl_vocab)\n",
    "train_iter = DataLoader(train_data, batch_size=32, shuffle=True, collate_fn=collate_fn)"
   ]
  },
  {
   "cell_type": "markdown",
   "id": "b63006ee-e498-43b8-ad3a-0a087e687ac5",
   "metadata": {},
   "source": [
    "### Translate"
   ]
  },
  {
   "cell_type": "markdown",
   "id": "3de41b5c-9421-4b6c-a467-53a34887f540",
   "metadata": {},
   "source": [
    "We define a **translate_sequence** function. It tokenizes the input sentence, adds <SOS> and <EOS> tokens at the beginning and end respectively, converts the tokens to indices using the vocabulary of the pli field, converts the indices to a PyTorch tensor, and iteratively predicts the next token in the translated sequence using the trained model until either the <EOS> token is predicted or the maximum length is reached. Finally, it converts the predicted indices back to tokens using the vocabulary of the Kotlin field and returns the translated sentence, removing the start token <sos>"
   ]
  },
  {
   "cell_type": "code",
   "execution_count": 29,
   "id": "16a95ad7-9cd8-4e50-957b-a7640de1ab3a",
   "metadata": {},
   "outputs": [],
   "source": [
    "def translate_sequence(sentence, pli_vocab, ktl_vocab, device, max_length=50):\n",
    "    if isinstance(sentence, str):\n",
    "        tokens = [token.lower() for token in sentence.split()]\n",
    "    else:\n",
    "        tokens = [token.lower() for token in sentence]\n",
    "    \n",
    "    # Add <SOS> and <EOS> in beginning and end respectively\n",
    "    tokens.insert(0, \"<sos>\")\n",
    "    tokens.append(\"<eos>\")\n",
    "\n",
    "    # Retrieve the stoi mapping\n",
    "    pli_stoi = pli_vocab.get_stoi()\n",
    "    ktl_stoi = ktl_vocab.get_stoi()\n",
    "\n",
    "    # Convert each language token to an index\n",
    "    text_to_indices = [pli_stoi[token] if token in pli_stoi else pli_stoi[\"<unk>\"] for token in tokens]\n",
    "\n",
    "    # Convert to Tensor\n",
    "    sentence_tensor = torch.LongTensor(text_to_indices).unsqueeze(1).to(device)\n",
    "\n",
    "    outputs = [ktl_stoi[\"<sos>\"]]\n",
    "    for i in range(max_length):\n",
    "        trg_tensor = torch.LongTensor(outputs).unsqueeze(1).to(device)\n",
    "\n",
    "        with torch.no_grad():\n",
    "            output = model(sentence_tensor, trg_tensor)\n",
    "\n",
    "        best_guess = output.argmax(2)[-1, :].item()\n",
    "        outputs.append(best_guess)\n",
    "\n",
    "        if best_guess == ktl_stoi[\"<eos>\"]:\n",
    "            break\n",
    "\n",
    "    translated_sentence = [ktl_vocab.get_itos()[idx] for idx in outputs]\n",
    "    # Remove start token\n",
    "    return translated_sentence[1:]"
   ]
  },
  {
   "cell_type": "markdown",
   "id": "2ad703ec-769e-4d94-8094-6a3c0ef12579",
   "metadata": {},
   "source": [
    "### Transpile"
   ]
  },
  {
   "cell_type": "markdown",
   "id": "2596f25f-d79e-4979-8948-deabfa76b81e",
   "metadata": {},
   "source": [
    "We define a **transpile_sequence** function. It retrieves the code tokens and context data from the input dictionary. Then, it initializes an empty list to store the transpiled code with proper indentation. The function then iterates through the tokens, adjusting the indentation level based on curly braces {} encountered in the code. It ignores the <eos> token. And after iterating through all the tokens, the function joins the transpiled code with proper spacing and renders it using the contextual data. Finally, it returns the transpiled code and the updated indentation level."
   ]
  },
  {
   "cell_type": "code",
   "execution_count": 30,
   "id": "a7b965e5-5119-496c-94c1-9f19923c2d0f",
   "metadata": {},
   "outputs": [],
   "source": [
    "def transpile_sequence(translated, level):\n",
    "    tokens = translated[\"code\"]\n",
    "    data = translated[\"context\"]\n",
    "    lint = []\n",
    "\n",
    "    for t in tokens:\n",
    "        spacer = \"\".rjust(level * 4)\n",
    "        if t == \"{\":\n",
    "            level += 1\n",
    "        elif t == \"}\" and level > 0:\n",
    "            level -= 1\n",
    "            spacer = \"\".rjust(level * 4)\n",
    "\n",
    "        if t != \"<eos>\":\n",
    "            lint.append(spacer + t)\n",
    "\n",
    "    code = \" \".join(lint)\n",
    "    t = Template(code)\n",
    "\n",
    "    return t.render(data), level"
   ]
  },
  {
   "cell_type": "markdown",
   "id": "4bf7c546-2c41-4705-8ad5-52a6795a5673",
   "metadata": {},
   "source": [
    "## Training"
   ]
  },
  {
   "cell_type": "markdown",
   "id": "19623d04-e9bf-45ce-8106-b4590eb70a13",
   "metadata": {},
   "source": [
    "### Hyperparameters"
   ]
  },
  {
   "cell_type": "markdown",
   "id": "8cd4823c-a5fd-451c-911b-434081ae5190",
   "metadata": {},
   "source": [
    "We define some **model hyperparameters** that help define how our model processes and transforms our input data. We also define some **training hyperparameters** that regulate the training process of our model"
   ]
  },
  {
   "cell_type": "code",
   "execution_count": 38,
   "id": "08426766-1700-48c7-b48a-8f9d12fab20c",
   "metadata": {},
   "outputs": [],
   "source": [
    "global level\n",
    "# Training hyperparameters\n",
    "num_epochs = 150\n",
    "learning_rate = 3e-4\n",
    "batch_size = 32\n",
    "training_losses = []\n",
    "\n",
    "device = torch.device(\"cuda\" if torch.cuda.is_available() else \"cpu\")\n",
    "\n",
    "scheduler = torch.optim.lr_scheduler.ReduceLROnPlateau(\n",
    "    optimizer, \n",
    "    factor=0.1, \n",
    "    patience=10, \n",
    "    verbose=True\n",
    ")\n",
    "\n",
    "pad_idx = ktl_vocab['<pad>']\n",
    "\n",
    "criterion = nn.CrossEntropyLoss(ignore_index=pad_idx)\n",
    "\n",
    "model = Transformer(\n",
    "    embedding_size,\n",
    "    src_vocab_size,\n",
    "    trg_vocab_size,\n",
    "    src_pad_idx,\n",
    "    num_heads,\n",
    "    num_encoder_layers,\n",
    "    num_decoder_layers,\n",
    "    forward_expansion,\n",
    "    dropout,\n",
    "    max_len,\n",
    "    device,\n",
    ").to(device)\n",
    "\n",
    "optimizer = optim.Adam(model.parameters(), lr=learning_rate)\n",
    "\n",
    "load_model = True\n",
    "save_model = True\n",
    "\n",
    "# Model hyperparameters\n",
    "src_vocab_size = len(pli_vocab.vocab)\n",
    "trg_vocab_size = len(ktl_vocab.vocab)\n",
    "embedding_size = 512\n",
    "num_heads = 8\n",
    "num_encoder_layers = 6\n",
    "num_decoder_layers = 6\n",
    "dropout = 0.10\n",
    "max_len = 100\n",
    "forward_expansion = 4\n",
    "src_pad_idx = ktl_vocab.get_stoi()[\"<pad>\"]\n",
    "\n"
   ]
  },
  {
   "cell_type": "markdown",
   "id": "2cd83f2c-6d63-44b0-88bc-269aaa7e32f4",
   "metadata": {},
   "source": [
    "### Specifics"
   ]
  },
  {
   "cell_type": "markdown",
   "id": "43d5a25e-8d9e-41d8-b800-8c623f3e2c63",
   "metadata": {},
   "source": [
    "This **remove_eos** function removes all \"< eos >\" tokens and then concatenate the remaining tokens into a single string"
   ]
  },
  {
   "cell_type": "code",
   "execution_count": 39,
   "id": "470fdc5a-d58f-417d-a82a-b7a65842b098",
   "metadata": {},
   "outputs": [],
   "source": [
    "def remove_eos(witheos):\n",
    "    noeos = []\n",
    "    for w in witheos:\n",
    "        if w != '<eos>':\n",
    "            noeos.append(w)\n",
    "    return \" \".join(noeos)"
   ]
  },
  {
   "cell_type": "markdown",
   "id": "a2f282dd-3afc-4d7c-b9db-6f558e81e77c",
   "metadata": {},
   "source": [
    "\n",
    "These functions, **save_checkpoint** and **load_checkpoint**, are essential for saving and loading the state of a model during training or inference."
   ]
  },
  {
   "cell_type": "code",
   "execution_count": 40,
   "id": "fc4e57c0-6e30-4d3a-adae-4c35d4a7045f",
   "metadata": {},
   "outputs": [],
   "source": [
    "def save_checkpoint(state, filename=\"checkpoint.pth.tar\"):\n",
    "    print(\"=> Saving checkpoint\")\n",
    "    torch.save(state, filename)\n",
    "\n",
    "\n",
    "def load_checkpoint(checkpoint, model, optimizer):\n",
    "    print(\"=> Loading checkpoint\")\n",
    "    model.load_state_dict(checkpoint[\"state_dict\"])\n",
    "    optimizer.load_state_dict(checkpoint[\"optimizer\"])"
   ]
  },
  {
   "cell_type": "markdown",
   "id": "fe6674fb-ac75-40c0-a3ba-8214e868a38e",
   "metadata": {},
   "source": [
    "### Model Initialization and Training Setup"
   ]
  },
  {
   "cell_type": "markdown",
   "id": "4a3b6171-3c47-4603-9b68-a0ad39d8d14b",
   "metadata": {},
   "source": [
    "Here we **initialize** the model, optimizer, scheduler, and criterion for training a Transformer model. It also creates **iterators** for the training and test datasets."
   ]
  },
  {
   "cell_type": "code",
   "execution_count": 48,
   "id": "8769f5cc-7121-4289-84d0-0170dfa10cad",
   "metadata": {},
   "outputs": [],
   "source": [
    "from torch.utils.data import Dataset, DataLoader"
   ]
  },
  {
   "cell_type": "code",
   "execution_count": 49,
   "id": "6bae51b6-d6ce-439e-8578-8a15be981178",
   "metadata": {},
   "outputs": [],
   "source": [
    "class TranslationDataset(Dataset):\n",
    "    def __init__(self, filename, src_vocab, trg_vocab, tokenizer):\n",
    "        with open(filename, 'r') as file:\n",
    "            data = json.load(file)['data']\n",
    "        \n",
    "        self.src_vocab = src_vocab\n",
    "        self.trg_vocab = trg_vocab\n",
    "        self.tokenizer = tokenizer\n",
    "\n",
    "        self.src_data = [self.encode(sentence['translation']['pli'], self.src_vocab) for sentence in data]\n",
    "        self.trg_data = [self.encode(sentence['translation']['ktl'], self.trg_vocab) for sentence in data]\n",
    "\n",
    "    def encode(self, text, vocab):\n",
    "        return [vocab[token] if token in vocab else vocab['<unk>'] for token in self.tokenizer(text)]\n",
    "\n",
    "    def __len__(self):\n",
    "        return len(self.src_data)\n",
    "\n",
    "    def __getitem__(self, idx):\n",
    "        return self.src_data[idx], self.trg_data[idx]\n",
    "\n",
    "def collate_fn(batch):\n",
    "    src_batch, trg_batch = zip(*batch)\n",
    "    src_batch = pad_sequence([torch.tensor(data) for data in src_batch], padding_value=src_pad_idx, batch_first=True)\n",
    "    trg_batch = pad_sequence([torch.tensor(data) for data in trg_batch], padding_value=trg_pad_idx, batch_first=True)\n",
    "    return src_batch, trg_batch"
   ]
  },
  {
   "cell_type": "code",
   "execution_count": 52,
   "id": "068fe188-4953-4cc6-b9de-89aa3dffeaa4",
   "metadata": {},
   "outputs": [],
   "source": [
    "train_dataset = TranslationDataset('data/train1.json', pli_vocab, ktl_vocab, tokenizer)\n",
    "test_dataset = TranslationDataset('data/train1.json', pli_vocab, ktl_vocab, tokenizer)"
   ]
  },
  {
   "cell_type": "code",
   "execution_count": 53,
   "id": "2ae2ec57-e5d3-4872-80f2-882fa624b137",
   "metadata": {},
   "outputs": [],
   "source": [
    "train_loader = DataLoader(train_dataset, batch_size=32, shuffle=True, collate_fn=collate_fn)\n",
    "test_loader = DataLoader(test_dataset, batch_size=32, shuffle=False, collate_fn=collate_fn)"
   ]
  },
  {
   "cell_type": "code",
   "execution_count": null,
   "id": "685f48ba-4676-4cc7-9506-69b8de07f19d",
   "metadata": {},
   "outputs": [],
   "source": [
    "train_iterator, test_iterator = BucketIterator.splits(\n",
    "    (train, test),\n",
    "    batch_size=batch_size,\n",
    "    sort_within_batch=True,\n",
    "    sort_key=lambda x: len(x.p),\n",
    "    device=device,\n",
    ")"
   ]
  },
  {
   "cell_type": "markdown",
   "id": "b655be9a-b42d-49b4-a31d-cb3423b11219",
   "metadata": {},
   "source": [
    "### Training loop"
   ]
  },
  {
   "cell_type": "markdown",
   "id": "e7e1d111-ccfc-479f-ab39-efa30c3d2f53",
   "metadata": {},
   "source": [
    "Within the training loop, batches of data are fetched using the **training_iterator**. Input and target sequences are transferred to the appropriate device (CPU or GPU), and the model is then trained using **forward** and **backward** passes. **Gradient clipping** is applied to prevent exploding gradients, and the **optimizer** is used to update the model parameters based on the computed gradients. After training, we evaluate the model's performance on example pli sequences, translating them to Kotlin using the trained model. Finally we utilise matplotlib to visualize the training loss over iterations and optionally save the trained model checkpoint for future use."
   ]
  },
  {
   "cell_type": "code",
   "execution_count": 55,
   "id": "59698502-09ec-4889-8367-d7fce1beea05",
   "metadata": {},
   "outputs": [],
   "source": [
    "src_pad_idx = pli_vocab['<pad>']\n",
    "trg_pad_idx = ktl_vocab['<pad>']"
   ]
  },
  {
   "cell_type": "code",
   "execution_count": 57,
   "id": "dd992f84-2cac-4cbc-aebd-b6230f246f46",
   "metadata": {},
   "outputs": [
    {
     "name": "stdout",
     "output_type": "stream",
     "text": [
      "[Epoch 0 / 150]\n",
      "Translated example sentence:\n",
      "                                                 \n",
      "  ( ( ( (  ( ( ( ( ( ( ( ( ( ( ( ( ( ( ( ( ( ( ( ( ( ( ( ( ( ( ( ( ( ( ( ( ( ( ( ( ( ( ( ( ( ( (\n",
      "  ( ( ( (  ( ( ( ( ( ( ( ( ( ( ( ( ( ( ( ( ( ( ( ( ( ( ( ( ( ( ( ( ( ( ( ( ( ( ( ( ( ( ( ( ( ( (\n",
      "Last 5 training losses: []\n",
      "[Epoch 0 / 150] Mean Loss: 3.312333822250366\n",
      "Recent training losses: [3.312333822250366]\n",
      "[Epoch 1 / 150] Mean Loss: 2.570452928543091\n",
      "[Epoch 2 / 150] Mean Loss: 1.6449109315872192\n",
      "[Epoch 3 / 150] Mean Loss: 1.8648922443389893\n",
      "[Epoch 4 / 150] Mean Loss: 1.6432406902313232\n",
      "[Epoch 5 / 150] Mean Loss: 1.3321876525878906\n",
      "[Epoch 6 / 150] Mean Loss: 1.2660270929336548\n",
      "[Epoch 7 / 150] Mean Loss: 1.1929463148117065\n",
      "[Epoch 8 / 150] Mean Loss: 1.0591377019882202\n",
      "[Epoch 9 / 150] Mean Loss: 1.0396826267242432\n",
      "[Epoch 10 / 150] Mean Loss: 1.0811278820037842\n",
      "Recent training losses: [1.2660270929336548, 1.1929463148117065, 1.0591377019882202, 1.0396826267242432, 1.0811278820037842]\n",
      "[Epoch 11 / 150] Mean Loss: 1.0101439952850342\n",
      "[Epoch 12 / 150] Mean Loss: 0.9771696329116821\n",
      "[Epoch 13 / 150] Mean Loss: 0.9731189012527466\n",
      "[Epoch 14 / 150] Mean Loss: 0.972685694694519\n",
      "[Epoch 15 / 150] Mean Loss: 1.0450581312179565\n",
      "[Epoch 16 / 150] Mean Loss: 0.9507318735122681\n",
      "[Epoch 17 / 150] Mean Loss: 0.9548383951187134\n",
      "[Epoch 18 / 150] Mean Loss: 0.9963289499282837\n",
      "[Epoch 19 / 150] Mean Loss: 0.9946257472038269\n",
      "[Epoch 20 / 150] Mean Loss: 0.9811502695083618\n",
      "Recent training losses: [0.9507318735122681, 0.9548383951187134, 0.9963289499282837, 0.9946257472038269, 0.9811502695083618]\n",
      "[Epoch 21 / 150] Mean Loss: 0.9802551865577698\n",
      "[Epoch 22 / 150] Mean Loss: 0.915188729763031\n",
      "[Epoch 23 / 150] Mean Loss: 1.0159826278686523\n",
      "[Epoch 24 / 150] Mean Loss: 0.9584493041038513\n",
      "[Epoch 25 / 150] Mean Loss: 0.9457816481590271\n",
      "[Epoch 26 / 150] Mean Loss: 0.9507156014442444\n",
      "[Epoch 27 / 150] Mean Loss: 0.9512430429458618\n",
      "[Epoch 28 / 150] Mean Loss: 1.0355935096740723\n",
      "[Epoch 29 / 150] Mean Loss: 0.9788872599601746\n",
      "[Epoch 30 / 150] Mean Loss: 0.995147168636322\n",
      "Recent training losses: [0.9507156014442444, 0.9512430429458618, 1.0355935096740723, 0.9788872599601746, 0.995147168636322]\n",
      "[Epoch 31 / 150] Mean Loss: 0.99625563621521\n",
      "[Epoch 32 / 150] Mean Loss: 0.948600172996521\n",
      "[Epoch 33 / 150] Mean Loss: 1.0137360095977783\n",
      "[Epoch 34 / 150] Mean Loss: 1.0263948440551758\n",
      "[Epoch 35 / 150] Mean Loss: 1.0504603385925293\n",
      "[Epoch 36 / 150] Mean Loss: 0.9261303544044495\n",
      "[Epoch 37 / 150] Mean Loss: 0.9722964763641357\n",
      "[Epoch 38 / 150] Mean Loss: 0.9644976258277893\n",
      "[Epoch 39 / 150] Mean Loss: 0.940088152885437\n",
      "[Epoch 40 / 150] Mean Loss: 0.9815163612365723\n",
      "Recent training losses: [0.9261303544044495, 0.9722964763641357, 0.9644976258277893, 0.940088152885437, 0.9815163612365723]\n",
      "[Epoch 41 / 150] Mean Loss: 0.9939696788787842\n",
      "[Epoch 42 / 150] Mean Loss: 0.9426730871200562\n",
      "[Epoch 43 / 150] Mean Loss: 0.9617383480072021\n",
      "[Epoch 44 / 150] Mean Loss: 0.9557312726974487\n",
      "[Epoch 45 / 150] Mean Loss: 0.9901087284088135\n",
      "[Epoch 46 / 150] Mean Loss: 0.9674025177955627\n",
      "[Epoch 47 / 150] Mean Loss: 0.9420747756958008\n",
      "[Epoch 48 / 150] Mean Loss: 0.932498574256897\n",
      "[Epoch 49 / 150] Mean Loss: 0.8442806005477905\n",
      "[Epoch 50 / 150]\n",
      "Translated example sentence:\n",
      "<unk> <unk> <unk> <unk> <unk> <unk> <unk> <unk> <unk> <unk> <unk> <unk> <unk> <unk> <unk> <unk> <unk> <unk> <unk> <unk> <unk> <unk> <unk> <unk> <unk> <unk> <unk> <unk> <unk> <unk> <unk> <unk> <unk> <unk> <unk> <unk> <unk> <unk> <unk> <unk> <unk> <unk> <unk> <unk> <unk> <unk> <unk> <unk> <unk> <unk>\n",
      "<unk> <unk> <unk> <unk> <unk> <unk> <unk> <unk> <unk> <unk> <unk> <unk> <unk> <unk> <unk> <unk> <unk> <unk> <unk> <unk> <unk> <unk> <unk> <unk> <unk> <unk> <unk> <unk> <unk> <unk> <unk> <unk> <unk> <unk> <unk> <unk> <unk> <unk> <unk> <unk> <unk> <unk> <unk> <unk> <unk> <unk> <unk> <unk> <unk> <unk>\n",
      "<unk> <unk> <unk> <unk> <unk> <unk> <unk> <unk> <unk> <unk> <unk> <unk> <unk> <unk> <unk> <unk> <unk> <unk> <unk> <unk> <unk> <unk> <unk> <unk> <unk> <unk> <unk> <unk> <unk> <unk> <unk> <unk> <unk> <unk> <unk> <unk> <unk> <unk> <unk> <unk> <unk> <unk> <unk> <unk> <unk> <unk> <unk> <unk> <unk> <unk>\n",
      "Last 5 training losses: [0.9901087284088135, 0.9674025177955627, 0.9420747756958008, 0.932498574256897, 0.8442806005477905]\n",
      "[Epoch 50 / 150] Mean Loss: 0.94170081615448\n",
      "Recent training losses: [0.9674025177955627, 0.9420747756958008, 0.932498574256897, 0.8442806005477905, 0.94170081615448]\n",
      "[Epoch 51 / 150] Mean Loss: 0.9179849624633789\n",
      "[Epoch 52 / 150] Mean Loss: 0.8140885829925537\n",
      "[Epoch 53 / 150] Mean Loss: 0.8546223044395447\n",
      "[Epoch 54 / 150] Mean Loss: 0.7559690475463867\n",
      "[Epoch 55 / 150] Mean Loss: 0.7318168878555298\n",
      "[Epoch 56 / 150] Mean Loss: 0.9505252838134766\n",
      "[Epoch 57 / 150] Mean Loss: 0.7915314435958862\n",
      "[Epoch 58 / 150] Mean Loss: 0.7857741713523865\n",
      "[Epoch 59 / 150] Mean Loss: 0.7388240694999695\n",
      "[Epoch 60 / 150] Mean Loss: 0.7241434454917908\n",
      "Recent training losses: [0.9505252838134766, 0.7915314435958862, 0.7857741713523865, 0.7388240694999695, 0.7241434454917908]\n",
      "[Epoch 61 / 150] Mean Loss: 0.680419921875\n",
      "[Epoch 62 / 150] Mean Loss: 0.7911215424537659\n",
      "[Epoch 63 / 150] Mean Loss: 0.6905108690261841\n",
      "[Epoch 64 / 150] Mean Loss: 0.5952476263046265\n",
      "[Epoch 65 / 150] Mean Loss: 0.7229896187782288\n",
      "[Epoch 66 / 150] Mean Loss: 0.8391414880752563\n",
      "[Epoch 67 / 150] Mean Loss: 0.6029329299926758\n",
      "[Epoch 68 / 150] Mean Loss: 0.5749319195747375\n",
      "[Epoch 69 / 150] Mean Loss: 0.5999162197113037\n",
      "[Epoch 70 / 150] Mean Loss: 0.5289039015769958\n",
      "Recent training losses: [0.8391414880752563, 0.6029329299926758, 0.5749319195747375, 0.5999162197113037, 0.5289039015769958]\n",
      "[Epoch 71 / 150] Mean Loss: 0.5626846551895142\n",
      "[Epoch 72 / 150] Mean Loss: 0.5784368515014648\n",
      "[Epoch 73 / 150] Mean Loss: 0.7316776514053345\n",
      "[Epoch 74 / 150] Mean Loss: 0.6191397905349731\n",
      "[Epoch 75 / 150] Mean Loss: 0.5138791799545288\n",
      "[Epoch 76 / 150] Mean Loss: 0.5754876136779785\n",
      "[Epoch 77 / 150] Mean Loss: 0.5683563351631165\n",
      "[Epoch 78 / 150] Mean Loss: 0.5913040041923523\n",
      "[Epoch 79 / 150] Mean Loss: 0.5597617626190186\n",
      "[Epoch 80 / 150] Mean Loss: 0.528849184513092\n",
      "Recent training losses: [0.5754876136779785, 0.5683563351631165, 0.5913040041923523, 0.5597617626190186, 0.528849184513092]\n",
      "[Epoch 81 / 150] Mean Loss: 0.7674025297164917\n",
      "[Epoch 82 / 150] Mean Loss: 0.5966300368309021\n",
      "[Epoch 83 / 150] Mean Loss: 0.795809268951416\n",
      "[Epoch 84 / 150] Mean Loss: 1.0254031419754028\n",
      "[Epoch 85 / 150] Mean Loss: 0.594791054725647\n",
      "[Epoch 86 / 150] Mean Loss: 0.5374166965484619\n",
      "[Epoch 87 / 150] Mean Loss: 0.8008596301078796\n",
      "[Epoch 88 / 150] Mean Loss: 0.5958641767501831\n",
      "[Epoch 89 / 150] Mean Loss: 0.6898615956306458\n",
      "[Epoch 90 / 150] Mean Loss: 0.5879956483840942\n",
      "Recent training losses: [0.5374166965484619, 0.8008596301078796, 0.5958641767501831, 0.6898615956306458, 0.5879956483840942]\n",
      "[Epoch 91 / 150] Mean Loss: 0.8539676070213318\n",
      "[Epoch 92 / 150] Mean Loss: 0.8119467496871948\n",
      "[Epoch 93 / 150] Mean Loss: 0.7982035279273987\n",
      "[Epoch 94 / 150] Mean Loss: 0.6939877867698669\n",
      "[Epoch 95 / 150] Mean Loss: 0.6754801869392395\n",
      "[Epoch 96 / 150] Mean Loss: 0.6358781456947327\n",
      "[Epoch 97 / 150] Mean Loss: 0.6458138823509216\n",
      "[Epoch 98 / 150] Mean Loss: 0.5472676753997803\n",
      "[Epoch 99 / 150] Mean Loss: 0.4986635148525238\n",
      "[Epoch 100 / 150]\n",
      "Translated example sentence:\n",
      "<unk> <unk> <unk> <unk> <unk> <unk> <unk> <unk> <unk> <unk> <unk> <unk> <unk> <unk> <unk> <unk> <unk> <unk> <unk> <unk> <unk> <unk> <unk> <unk> <unk> <unk> <unk> <unk> <unk> <unk> <unk> <unk> <unk> <unk> <unk> <unk> <unk> <unk> <unk> <unk> <unk> <unk> <unk> <unk> <unk> <unk> <unk> <unk> <unk> <unk>\n",
      "<unk> <unk> <unk> <unk> <unk> <unk> <unk> <unk> <unk> <unk> <unk> <unk> <unk> <unk> <unk> <unk> <unk> <unk> <unk> <unk> <unk> <unk> <unk> <unk> <unk> <unk> <unk> <unk> <unk> <unk> <unk> <unk> <unk> <unk> <unk> <unk> <unk> <unk> <unk> <unk> <unk> <unk> <unk> <unk> <unk> <unk> <unk> <unk> <unk> <unk>\n",
      "<unk> <unk> <unk> <unk> <unk> <unk> <unk> <unk> <unk> <unk> <unk> <unk> <unk> <unk> <unk> <unk> <unk> <unk> <unk> <unk> <unk> <unk> <unk> <unk> <unk> <unk> <unk> <unk> <unk> <unk> <unk> <unk> <unk> <unk> <unk> <unk> <unk> <unk> <unk> <unk> <unk> <unk> <unk> <unk> <unk> <unk> <unk> <unk> <unk> <unk>\n",
      "Last 5 training losses: [0.6754801869392395, 0.6358781456947327, 0.6458138823509216, 0.5472676753997803, 0.4986635148525238]\n",
      "[Epoch 100 / 150] Mean Loss: 0.6466329097747803\n",
      "Recent training losses: [0.6358781456947327, 0.6458138823509216, 0.5472676753997803, 0.4986635148525238, 0.6466329097747803]\n",
      "[Epoch 101 / 150] Mean Loss: 0.5118134617805481\n",
      "[Epoch 102 / 150] Mean Loss: 0.7636435031890869\n",
      "[Epoch 103 / 150] Mean Loss: 0.801625669002533\n",
      "[Epoch 104 / 150] Mean Loss: 0.955175518989563\n",
      "[Epoch 105 / 150] Mean Loss: 0.7988469004631042\n",
      "[Epoch 106 / 150] Mean Loss: 0.7389184832572937\n",
      "[Epoch 107 / 150] Mean Loss: 0.7368539571762085\n",
      "[Epoch 108 / 150] Mean Loss: 0.6752797961235046\n",
      "[Epoch 109 / 150] Mean Loss: 0.6743291020393372\n",
      "[Epoch 110 / 150] Mean Loss: 0.600402295589447\n",
      "Recent training losses: [0.7389184832572937, 0.7368539571762085, 0.6752797961235046, 0.6743291020393372, 0.600402295589447]\n",
      "[Epoch 111 / 150] Mean Loss: 0.7502714991569519\n",
      "[Epoch 112 / 150] Mean Loss: 0.7240923047065735\n",
      "[Epoch 113 / 150] Mean Loss: 0.4812990427017212\n",
      "[Epoch 114 / 150] Mean Loss: 0.4450875222682953\n",
      "[Epoch 115 / 150] Mean Loss: 0.48570969700813293\n",
      "[Epoch 116 / 150] Mean Loss: 0.4615062177181244\n",
      "[Epoch 117 / 150] Mean Loss: 0.48740458488464355\n",
      "[Epoch 118 / 150] Mean Loss: 0.44964364171028137\n",
      "[Epoch 119 / 150] Mean Loss: 0.36140814423561096\n",
      "[Epoch 120 / 150] Mean Loss: 0.3481493890285492\n",
      "Recent training losses: [0.4615062177181244, 0.48740458488464355, 0.44964364171028137, 0.36140814423561096, 0.3481493890285492]\n",
      "[Epoch 121 / 150] Mean Loss: 0.44381436705589294\n",
      "[Epoch 122 / 150] Mean Loss: 0.37547552585601807\n",
      "[Epoch 123 / 150] Mean Loss: 0.37605786323547363\n",
      "[Epoch 124 / 150] Mean Loss: 0.5781459808349609\n",
      "[Epoch 125 / 150] Mean Loss: 0.5027140378952026\n",
      "[Epoch 126 / 150] Mean Loss: 0.3268488943576813\n",
      "[Epoch 127 / 150] Mean Loss: 0.3480832874774933\n",
      "[Epoch 128 / 150] Mean Loss: 0.3962976634502411\n",
      "[Epoch 129 / 150] Mean Loss: 0.354884535074234\n",
      "[Epoch 130 / 150] Mean Loss: 0.45296138525009155\n",
      "Recent training losses: [0.3268488943576813, 0.3480832874774933, 0.3962976634502411, 0.354884535074234, 0.45296138525009155]\n",
      "[Epoch 131 / 150] Mean Loss: 0.41344311833381653\n",
      "[Epoch 132 / 150] Mean Loss: 0.3884411156177521\n",
      "[Epoch 133 / 150] Mean Loss: 0.3892318904399872\n",
      "[Epoch 134 / 150] Mean Loss: 0.3834206461906433\n",
      "[Epoch 135 / 150] Mean Loss: 0.4362333416938782\n",
      "[Epoch 136 / 150] Mean Loss: 0.3950125575065613\n",
      "[Epoch 137 / 150] Mean Loss: 0.37271469831466675\n",
      "[Epoch 138 / 150] Mean Loss: 0.370796799659729\n",
      "[Epoch 139 / 150] Mean Loss: 0.4082341492176056\n",
      "[Epoch 140 / 150] Mean Loss: 0.318412721157074\n",
      "Recent training losses: [0.3950125575065613, 0.37271469831466675, 0.370796799659729, 0.4082341492176056, 0.318412721157074]\n",
      "[Epoch 141 / 150] Mean Loss: 0.3626718819141388\n",
      "[Epoch 142 / 150] Mean Loss: 0.3150324821472168\n",
      "[Epoch 143 / 150] Mean Loss: 0.38887637853622437\n",
      "[Epoch 144 / 150] Mean Loss: 0.349295049905777\n",
      "[Epoch 145 / 150] Mean Loss: 0.33403563499450684\n",
      "[Epoch 146 / 150] Mean Loss: 0.3755839467048645\n",
      "[Epoch 147 / 150] Mean Loss: 0.395001083612442\n",
      "[Epoch 148 / 150] Mean Loss: 0.30271115899086\n",
      "[Epoch 149 / 150] Mean Loss: 0.30507656931877136\n",
      "Final Epoch: [Epoch 150 / 150]\n",
      "=> Saving checkpoint\n"
     ]
    },
    {
     "data": {
      "image/png": "[encoded data removed]",
      "text/plain": [
       "<Figure size 640x480 with 1 Axes>"
      ]
     },
     "metadata": {},
     "output_type": "display_data"
    }
   ],
   "source": [
    "if __name__ == '__main__':\n",
    "    for epoch in range(num_epochs):\n",
    "        # Evaluation phase\n",
    "        model.eval()  # Set the model to evaluation mode\n",
    "        with torch.no_grad():  # Disable gradient computation\n",
    "            if epoch % 50 == 0:\n",
    "                print(f\"[Epoch {epoch} / {num_epochs}]\")\n",
    "                # Example sentences for demonstration\n",
    "                sentences = [\n",
    "                    {'pli': ['PROCEDURE', 'MAIN', '{{type0}}', '{{type1}}'], 'context': {'type0': 'Array', 'type1': 'String'}},\n",
    "                    {'pli': ['DO'], 'context': {}},\n",
    "                    {'pli': ['END'], 'context': {}}\n",
    "                ]\n",
    "                print(\"Translated example sentence:\")\n",
    "                level = 0\n",
    "                for s in sentences:\n",
    "                    translated = translate_sequence(\n",
    "                        s['pli'], pli_vocab, ktl_vocab, device, max_length=50\n",
    "                    )\n",
    "                    transpiled, level = transpile_sequence({\n",
    "                        'code': translated,\n",
    "                        'context': s['context']\n",
    "                    }, level)\n",
    "                    print(transpiled)\n",
    "                last_5_losses = training_losses[-5:]\n",
    "                print(\"Last 5 training losses:\", last_5_losses)\n",
    "\n",
    "        # Training phase\n",
    "        model.train()  # Set the model to training mode\n",
    "        losses = []\n",
    "        for batch_idx, (src_batch, trg_batch) in enumerate(train_loader):\n",
    "            src_batch, trg_batch = src_batch.to(device), trg_batch.to(device)  # Move data to the device\n",
    "\n",
    "            # Forward pass\n",
    "            output = model(src_batch, trg_batch[:, :-1])  # Target offset by one for 'teacher forcing'\n",
    "            output_dim = output.shape[-1]\n",
    "            output = output.contiguous().view(-1, output_dim)\n",
    "            trg_batch = trg_batch[:, 1:].contiguous().view(-1)\n",
    "\n",
    "            # Calculate loss\n",
    "            optimizer.zero_grad()  # Clear gradients\n",
    "            loss = criterion(output, trg_batch)  # Compute the loss\n",
    "            losses.append(loss.item())\n",
    "\n",
    "            # Backward pass and optimize\n",
    "            loss.backward()  # Backpropagation\n",
    "            torch.nn.utils.clip_grad_norm_(model.parameters(), max_norm=1)  # Gradient clipping\n",
    "            optimizer.step()  # Update parameters\n",
    "\n",
    "            # Store the loss\n",
    "            training_losses.append(loss.item())\n",
    "\n",
    "        # Average loss for the epoch\n",
    "        mean_loss = sum(losses) / len(losses)\n",
    "        scheduler.step(mean_loss)  # Update learning rate schedule\n",
    "\n",
    "        # Print training summary for the epoch\n",
    "        print(f\"[Epoch {epoch} / {num_epochs}] Mean Loss: {mean_loss}\")\n",
    "        if epoch % 10 == 0:  # Optionally print more frequently\n",
    "            print(\"Recent training losses:\", training_losses[-5:])\n",
    "\n",
    "    # Post training: review and save\n",
    "    print(\"Final Epoch:\", f\"[Epoch {num_epochs} / {num_epochs}]\")\n",
    "    if save_model:\n",
    "        checkpoint = {\n",
    "            \"state_dict\": model.state_dict(),\n",
    "            \"optimizer\": optimizer.state_dict(),\n",
    "        }\n",
    "        save_checkpoint(checkpoint)\n",
    "\n",
    "    # Plot the training loss\n",
    "    plt.plot(training_losses, label='Training Loss')\n",
    "    plt.xlabel('Iterations')\n",
    "    plt.ylabel('Training Losses')\n",
    "    plt.title('Training Loss Over Iterations')\n",
    "    plt.legend()\n",
    "    plt.show()"
   ]
  },
  {
   "cell_type": "code",
   "execution_count": 70,
   "id": "2bc61b37-8188-42ac-bbb4-1f57cea15a2a",
   "metadata": {},
   "outputs": [
    {
     "name": "stdout",
     "output_type": "stream",
     "text": [
      "[Epoch 0 / 150]\n",
      "Translated example sentence:\n",
      "<unk> <unk> <unk> <unk> <unk> <unk> <unk> <unk> <unk> <unk> <unk> <unk> <unk> <unk> <unk> <unk> <unk> <unk> <unk> <unk> <unk> <unk> <unk> <unk> <unk> <unk> <unk> <unk> <unk> <unk> <unk> <unk> <unk> <unk> <unk> <unk> <unk> <unk> <unk> <unk> <unk> <unk> <unk> <unk> <unk> <unk> <unk> <unk> <unk> <unk>\n",
      "<unk> <unk> <unk> <unk> <unk> <unk> <unk> <unk> <unk> <unk> <unk> <unk> <unk> <unk> <unk> <unk> <unk> <unk> <unk> <unk> <unk> <unk> <unk> <unk> <unk> <unk> <unk> <unk> <unk> <unk> <unk> <unk> <unk> <unk> <unk> <unk> <unk> <unk> <unk> <unk> <unk> <unk> <unk> <unk> <unk> <unk> <unk> <unk> <unk> <unk>\n",
      "<unk> <unk> <unk> <unk> <unk> <unk> <unk> <unk> <unk> <unk> <unk> <unk> <unk> <unk> <unk> <unk> <unk> <unk> <unk> <unk> <unk> <unk> <unk> <unk> <unk> <unk> <unk> <unk> <unk> <unk> <unk> <unk> <unk> <unk> <unk> <unk> <unk> <unk> <unk> <unk> <unk> <unk> <unk> <unk> <unk> <unk> <unk> <unk> <unk> <unk>\n",
      "Last 5 training losses: [0.33403563499450684, 0.3755839467048645, 0.395001083612442, 0.30271115899086, 0.30507656931877136]\n",
      "[Epoch 50 / 150]\n",
      "Translated example sentence:\n",
      "\n",
      "}\n",
      "}\n",
      "Last 5 training losses: [0.9633583426475525, 0.9114609956741333, 0.9252116680145264, 0.8733938336372375, 0.9163404703140259]\n",
      "[Epoch 100 / 150]\n",
      "Translated example sentence:\n",
      "fun <unk> <unk> <unk>\n",
      "}\n",
      "}\n",
      "Last 5 training losses: [0.5100974440574646, 0.28706270456314087, 0.35708436369895935, 0.3605521023273468, 0.4470812678337097]\n",
      "[Epoch 150 / 150]\n",
      "fun <unk>\n",
      "}\n",
      "{\n",
      "Last 5 training losses: [0.15011364221572876, 0.19311058521270752, 0.14169514179229736, 0.2333071380853653, 0.15390384197235107]\n"
     ]
    },
    {
     "data": {
      "image/png": "[encoded data removed]",
      "text/plain": [
       "<Figure size 640x480 with 1 Axes>"
      ]
     },
     "metadata": {},
     "output_type": "display_data"
    },
    {
     "name": "stdout",
     "output_type": "stream",
     "text": [
      "=> Saving checkpoint\n"
     ]
    }
   ],
   "source": [
    "if __name__ == '__main__':\n",
    "    for epoch in range(num_epochs):\n",
    "        model.eval()\n",
    "        if epoch % 50 == 0:\n",
    "            print(f\"[Epoch {epoch} / {num_epochs}]\")\n",
    "            sentences = [\n",
    "                {'pli': ['PROCEDURE', 'MAIN', '{{type0}}', '{{type1}}'], 'context': {'type0': 'Array', 'type1': 'String'}},\n",
    "                {'pli': ['DO'], 'context': {}},\n",
    "                {'pli': ['END'], 'context': {}}\n",
    "            ]\n",
    "            print(\"Translated example sentence:\")\n",
    "            level = 0\n",
    "            for s in sentences:\n",
    "                translated = translate_sequence(\n",
    "                    s['pli'], pli_vocab, ktl_vocab, device, max_length=50\n",
    "                )\n",
    "                transpiled, level = transpile_sequence({\n",
    "                    'code': translated,\n",
    "                    'context': s['context']\n",
    "                }, level)\n",
    "                print(transpiled)\n",
    "            last_5_losses = training_losses[-5:]\n",
    "            print(\"Last 5 training losses:\", last_5_losses)\n",
    "\n",
    "        model.train()\n",
    "        losses = []\n",
    "        for batch_idx, batch in enumerate(train_iter):\n",
    "            inp_data = batch[0].to(device)\n",
    "            target = batch[1].to(device)\n",
    "\n",
    "            output = model(inp_data, target[:-1, :])\n",
    "            output = output.reshape(-1, output.shape[2])\n",
    "            target = target[1:].reshape(-1)\n",
    "\n",
    "            optimizer.zero_grad()\n",
    "            loss = criterion(output, target)\n",
    "            losses.append(loss.item())\n",
    "            loss.backward()\n",
    "            torch.nn.utils.clip_grad_norm_(model.parameters(), max_norm=1)\n",
    "            optimizer.step()\n",
    "\n",
    "            training_losses.append(loss.item())\n",
    "\n",
    "        mean_loss = sum(losses) / len(losses)\n",
    "        scheduler.step(mean_loss)\n",
    "\n",
    "    print(f\"[Epoch {num_epochs} / {num_epochs}]\")\n",
    "    for s in sentences:\n",
    "        translated = translate_sequence(\n",
    "            s['pli'], pli_vocab, ktl_vocab, device, max_length=50\n",
    "        )\n",
    "        transpiled, level = transpile_sequence({\n",
    "            'code': translated,\n",
    "            'context': s['context']\n",
    "        }, level)\n",
    "        print(transpiled)\n",
    "\n",
    "    last_5_losses = training_losses[-5:]\n",
    "    print(\"Last 5 training losses:\", last_5_losses)\n",
    "\n",
    "    plt.plot(training_losses, label='Training Loss')\n",
    "    plt.xlabel('Iterations')\n",
    "    plt.ylabel('Training Losses')\n",
    "    plt.title('Training Loss Over Iterations')\n",
    "    plt.legend()\n",
    "    plt.show()\n",
    "\n",
    "    if save_model:\n",
    "        checkpoint = {\n",
    "            \"state_dict\": model.state_dict(),\n",
    "            \"optimizer\": optimizer.state_dict(),\n",
    "        }\n",
    "        save_checkpoint(checkpoint)"
   ]
  },
  {
   "cell_type": "markdown",
   "id": "2138879f-8b33-41bc-898a-9e3611f82c08",
   "metadata": {},
   "source": [
    "### Running the model "
   ]
  },
  {
   "cell_type": "markdown",
   "id": "45909bb6-a9fc-4f7b-9288-59cb5e9d1997",
   "metadata": {},
   "source": [
    "Finally, to show how our transpiller works, we define a **run_model** function where we're processing a PL1 file, which contains original PL1 code. First, we load our pre-trained model and its optimizer using the checkpoint file. Then, we set up a lexer and parser for the PL1 code using ANTLR4. We generate a dataset from the parsed code using a visitor pattern, which iterates through the AST (Abstract Syntax Tree) generated by the parser. For each statement in the PL1 code, we translate it into Kotlin using our sequence-to-sequence model and transpile it into Kotlin code. The transpiled Kotlin code is accumulated and printed as the output. This function essentially automates the process of translating our PL1 code to Kotlin"
   ]
  },
  {
   "cell_type": "code",
   "execution_count": 58,
   "id": "7520bf5d-6902-41ee-bb85-956ca92b52b3",
   "metadata": {},
   "outputs": [
    {
     "name": "stdout",
     "output_type": "stream",
     "text": [
      "PL1:\n",
      "\n",
      " Factorial: proc options (main);\n",
      "    dcl (n,result) fixed bin(31);\n",
      "    n  = 5;\n",
      "    result = Compute_factorial(n);\n",
      "\n",
      " end Factorial;\n",
      "  /***********************************************/\n",
      "  /* Subroutine                                  */\n",
      "  /***********************************************/\n",
      "  Compute_factorial: proc (n)  returns (fixed bin(31));\n",
      "     dcl n fixed bin(15);\n",
      "      if n <= 1 then\n",
      "        return(1);\n",
      "\n",
      "     return( n*Compute_factorial(n-1) );\n",
      "\n",
      "  end Compute_factorial;\n",
      "\n",
      "\n",
      "=> Loading checkpoint\n",
      "KTL:\n",
      "\n",
      "<unk> <unk> <unk> <unk> <unk> <unk> <unk> <unk> <unk> <unk> <unk> <unk> <unk> <unk> <unk> <unk> <unk> <unk> <unk> <unk> <unk> <unk> <unk> <unk> <unk> <unk> <unk> <unk> <unk> <unk> <unk> <unk> <unk> <unk> <unk> <unk> <unk> <unk> <unk> <unk> <unk> <unk> <unk> <unk> <unk> <unk> <unk> <unk> <unk> <unk>\n",
      "<unk> <unk> <unk> <unk> <unk> <unk> <unk> <unk> <unk> <unk> <unk> <unk> <unk> <unk> <unk> <unk> <unk> <unk> <unk> <unk> <unk> <unk> <unk> <unk> <unk> <unk> <unk> <unk> <unk> <unk> <unk> <unk> <unk> <unk> <unk> <unk> <unk> <unk> <unk> <unk> <unk> <unk> <unk> <unk> <unk> <unk> <unk> <unk> <unk> <unk>\n",
      "<unk> <unk> <unk> <unk> <unk> <unk> <unk> <unk> <unk> <unk> <unk> <unk> <unk> <unk> <unk> <unk> <unk> <unk> <unk> <unk> <unk> <unk> <unk> <unk> <unk> <unk> <unk> <unk> <unk> <unk> <unk> <unk> <unk> <unk> <unk> <unk> <unk> <unk> <unk> <unk> <unk> <unk> <unk> <unk> <unk> <unk> <unk> <unk> <unk> <unk>\n",
      "<unk> <unk> <unk> <unk> <unk> <unk> <unk> <unk> <unk> <unk> <unk> <unk> <unk> <unk> <unk> <unk> <unk> <unk> <unk> <unk> <unk> <unk> <unk> <unk> <unk> <unk> <unk> <unk> <unk> <unk> <unk> <unk> <unk> <unk> <unk> <unk> <unk> <unk> <unk> <unk> <unk> <unk> <unk> <unk> <unk> <unk> <unk> <unk> <unk> <unk>\n",
      "<unk> <unk> <unk> <unk> <unk> <unk> <unk> <unk> <unk> <unk> <unk> <unk> <unk> <unk> <unk> <unk> <unk> <unk> <unk> <unk> <unk> <unk> <unk> <unk> <unk> <unk> <unk> <unk> <unk> <unk> <unk> <unk> <unk> <unk> <unk> <unk> <unk> <unk> <unk> <unk> <unk> <unk> <unk> <unk> <unk> <unk> <unk> <unk> <unk> <unk>\n",
      "<unk> <unk> <unk> <unk> <unk> <unk> <unk> <unk> <unk> <unk> <unk> <unk> <unk> <unk> <unk> <unk> <unk> <unk> <unk> <unk> <unk> <unk> <unk> <unk> <unk> <unk> <unk> <unk> <unk> <unk> <unk> <unk> <unk> <unk> <unk> <unk> <unk> <unk> <unk> <unk> <unk> <unk> <unk> <unk> <unk> <unk> <unk> <unk> <unk> <unk>\n",
      "<unk> <unk> <unk> <unk> <unk> <unk> <unk> <unk> <unk> <unk> <unk> <unk> <unk> <unk> <unk> <unk> <unk> <unk> <unk> <unk> <unk> <unk> <unk> <unk> <unk> <unk> <unk> <unk> <unk> <unk> <unk> <unk> <unk> <unk> <unk> <unk> <unk> <unk> <unk> <unk> <unk> <unk> <unk> <unk> <unk> <unk> <unk> <unk> <unk> <unk>\n",
      "<unk> <unk> <unk> <unk> <unk> <unk> <unk> <unk> <unk> <unk> <unk> <unk> <unk> <unk> <unk> <unk> <unk> <unk> <unk> <unk> <unk> <unk> <unk> <unk> <unk> <unk> <unk> <unk> <unk> <unk> <unk> <unk> <unk> <unk> <unk> <unk> <unk> <unk> <unk> <unk> <unk> <unk> <unk> <unk> <unk> <unk> <unk> <unk> <unk> <unk>\n",
      "<unk> <unk> <unk> <unk> <unk> <unk> <unk> <unk> <unk> <unk> <unk> <unk> <unk> <unk> <unk> <unk> <unk> <unk> <unk> <unk> <unk> <unk> <unk> <unk> <unk> <unk> <unk> <unk> <unk> <unk> <unk> <unk> <unk> <unk> <unk> <unk> <unk> <unk> <unk> <unk> <unk> <unk> <unk> <unk> <unk> <unk> <unk> <unk> <unk> <unk>\n",
      "<unk> <unk> <unk> <unk> <unk> <unk> <unk> <unk> <unk> <unk> <unk> <unk> <unk> <unk> <unk> <unk> <unk> <unk> <unk> <unk> <unk> <unk> <unk> <unk> <unk> <unk> <unk> <unk> <unk> <unk> <unk> <unk> <unk> <unk> <unk> <unk> <unk> <unk> <unk> <unk> <unk> <unk> <unk> <unk> <unk> <unk> <unk> <unk> <unk> <unk>\n",
      "<unk> <unk> <unk> <unk> <unk> <unk> <unk> <unk> <unk> <unk> <unk> <unk> <unk> <unk> <unk> <unk> <unk> <unk> <unk> <unk> <unk> <unk> <unk> <unk> <unk> <unk> <unk> <unk> <unk> <unk> <unk> <unk> <unk> <unk> <unk> <unk> <unk> <unk> <unk> <unk> <unk> <unk> <unk> <unk> <unk> <unk> <unk> <unk> <unk> <unk>\n",
      "<unk> <unk> <unk> <unk> <unk> <unk> <unk> <unk> <unk> <unk> <unk> <unk> <unk> <unk> <unk> <unk> <unk> <unk> <unk> <unk> <unk> <unk> <unk> <unk> <unk> <unk> <unk> <unk> <unk> <unk> <unk> <unk> <unk> <unk> <unk> <unk> <unk> <unk> <unk> <unk> <unk> <unk> <unk> <unk> <unk> <unk> <unk> <unk> <unk> <unk>\n",
      "<unk> <unk> <unk> <unk> <unk> <unk> <unk> <unk> <unk> <unk> <unk> <unk> <unk> <unk> <unk> <unk> <unk> <unk> <unk> <unk> <unk> <unk> <unk> <unk> <unk> <unk> <unk> <unk> <unk> <unk> <unk> <unk> <unk> <unk> <unk> <unk> <unk> <unk> <unk> <unk> <unk> <unk> <unk> <unk> <unk> <unk> <unk> <unk> <unk> <unk>\n",
      "<unk> <unk> <unk> <unk> <unk> <unk> <unk> <unk> <unk> <unk> <unk> <unk> <unk> <unk> <unk> <unk> <unk> <unk> <unk> <unk> <unk> <unk> <unk> <unk> <unk> <unk> <unk> <unk> <unk> <unk> <unk> <unk> <unk> <unk> <unk> <unk> <unk> <unk> <unk> <unk> <unk> <unk> <unk> <unk> <unk> <unk> <unk> <unk> <unk> <unk>\n",
      "<unk> <unk> <unk> <unk> <unk> <unk> <unk> <unk> <unk> <unk> <unk> <unk> <unk> <unk> <unk> <unk> <unk> <unk> <unk> <unk> <unk> <unk> <unk> <unk> <unk> <unk> <unk> <unk> <unk> <unk> <unk> <unk> <unk> <unk> <unk> <unk> <unk> <unk> <unk> <unk> <unk> <unk> <unk> <unk> <unk> <unk> <unk> <unk> <unk> <unk>\n",
      "\n"
     ]
    }
   ],
   "source": [
    "def run_model(filename):\n",
    "\n",
    "    with open(filename, 'r') as file:\n",
    "        original_code = file.read()\n",
    "    print(\"PL1:\")\n",
    "    print(original_code)\n",
    "    print()\n",
    "\n",
    "    load_checkpoint(torch.load(\"checkpoint.pth.tar\"), model, optimizer)\n",
    "    # Lexer setup\n",
    "    input_stream = FileStream(filename)\n",
    "    lexer = PLILexer(input_stream)\n",
    "    stream = CommonTokenStream(lexer)\n",
    "\n",
    "    # Parser setup\n",
    "    parser = PLIParser(stream)\n",
    "    tree = parser.program()\n",
    "\n",
    "    # Dataset generation\n",
    "    visitor = PLIVisitor()\n",
    "    statements = visitor.visit(tree)\n",
    "\n",
    "    # Accumulate transpiled sequences\n",
    "    transpiled_code = \"\"\n",
    "    level = 0\n",
    "    for s in statements:\n",
    "        translated = translate_sequence(\n",
    "            s[\"pli\"], pli_vocab, ktl_vocab, device, max_length=50\n",
    "        )\n",
    "        transpiled, level = transpile_sequence({\n",
    "            'code': translated,\n",
    "            'context': s['context']\n",
    "        }, level)\n",
    "        transpiled_code += transpiled+ \"\\n\"\n",
    "\n",
    "    # Print the entire block of transpiled code\n",
    "    print(\"KTL:\")\n",
    "    print(\"\\n\" + transpiled_code)\n",
    "\n",
    "# Example usage:\n",
    "run_model(\"FIB.PLI\")"
   ]
  },
  {
   "cell_type": "code",
   "execution_count": null,
   "id": "2d2842c0-af08-4a89-9e10-641defcd7350",
   "metadata": {},
   "outputs": [],
   "source": []
  }
 ],
 "metadata": {
  "kernelspec": {
   "display_name": "Python 3 (ipykernel)",
   "language": "python",
   "name": "python3"
  },
  "language_info": {
   "codemirror_mode": {
    "name": "ipython",
    "version": 3
   },
   "file_extension": ".py",
   "mimetype": "text/x-python",
   "name": "python",
   "nbconvert_exporter": "python",
   "pygments_lexer": "ipython3",
   "version": "3.10.12"
  }
 },
 "nbformat": 4,
 "nbformat_minor": 5
}
